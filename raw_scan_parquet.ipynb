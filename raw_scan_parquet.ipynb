{
 "cells": [
  {
   "cell_type": "markdown",
   "source": [
    "Parse the raw event log to compare CPU and GPU scan parquet operations."
   ],
   "metadata": {
    "collapsed": false
   },
   "id": "38b70794d584d102"
  },
  {
   "cell_type": "code",
   "execution_count": null,
   "outputs": [],
   "source": [
    "import json\n",
    "import os\n",
    "\n",
    "import matplotlib.pyplot as plt\n",
    "import numpy as np\n",
    "import pandas as pd\n",
    "\n",
    "cpu_profiles = \"/opt/data/profiles/dataproc-cpu-sf3k\"\n",
    "gpu_profiles = \"/opt/data/profiles/dataproc-gpu-sf3k\"\n",
    "cpu_events = \"/opt/data/events/dataproc-cpu-sf3k\"\n",
    "gpu_events = \"/opt/data/events/dataproc-gpu-sf3k\"\n",
    "\n",
    "cpu_profile_dirs = os.listdir(cpu_profiles)\n",
    "cpu_profile_dirs.sort()\n",
    "gpu_profile_dirs = os.listdir(gpu_profiles)\n",
    "gpu_profile_dirs.sort()\n",
    "\n",
    "cpu_event_files = os.listdir(cpu_events)\n",
    "cpu_event_files.sort()\n",
    "gpu_event_files = os.listdir(gpu_events)\n",
    "gpu_event_files.sort()\n",
    "\n",
    "num_apps = len(cpu_event_files)\n",
    "assert len(cpu_event_files) == num_apps\n",
    "assert len(gpu_event_files) == num_apps\n",
    "assert len(cpu_profile_dirs) == num_apps\n",
    "assert len(gpu_profile_dirs) == num_apps\n",
    "num_apps"
   ],
   "metadata": {
    "collapsed": false
   },
   "id": "4bfab33d0f98d9ce"
  },
  {
   "cell_type": "code",
   "outputs": [],
   "source": [
    "def collect(node, min_times, median_times, max_times, total_times, min_map, median_map, max_map, total_map):\n",
    "    if node['nodeName'] == 'GpuScan parquet ' or node['nodeName'] == 'Scan parquet ':\n",
    "        for m in node['metrics']:\n",
    "            if m['name'] == 'scan time':\n",
    "                accumulator_id = m['accumulatorId']\n",
    "                min_times.append(min_map.get(accumulator_id, 0))\n",
    "                median_times.append(median_map.get(accumulator_id, 0))\n",
    "                max_times.append(max_map.get(accumulator_id, 0))\n",
    "                total_times.append(total_map.get(accumulator_id, 0))\n",
    "    for child in node['children']:\n",
    "        collect(child, min_times, median_times, max_times, total_times, min_map, median_map, max_map, total_map)\n",
    "\n",
    "\n",
    "def collect_scan_times(profile_dir, event_file):\n",
    "    sql_info = pd.read_csv(f\"{profile_dir}/sql_plan_metrics_for_application.csv\")\n",
    "    filtered_df = sql_info[(sql_info[\"name\"] == \"scan time\")]\n",
    "    filtered_df.set_index(\"accumulatorId\", inplace=True)\n",
    "    min_dict = filtered_df[\"min\"].to_dict()\n",
    "    median_dict = filtered_df[\"median\"].to_dict()\n",
    "    max_dict = filtered_df[\"max\"].to_dict()\n",
    "    total_dict = filtered_df[\"total\"].to_dict()\n",
    "\n",
    "    min_times = []\n",
    "    median_times = []\n",
    "    max_times = []\n",
    "    total_times = []\n",
    "    with open(event_file, \"r\") as f:\n",
    "        for line in f:\n",
    "            event = json.loads(line)\n",
    "            if \"sparkPlanInfo\" in event:\n",
    "                min_times.clear()\n",
    "                median_times.clear()\n",
    "                max_times.clear()\n",
    "                total_times.clear()\n",
    "                collect(event[\"sparkPlanInfo\"], min_times, median_times, max_times, total_times, min_dict, median_dict,\n",
    "                        max_dict, total_dict)\n",
    "    min_times.sort()\n",
    "    median_times.sort()\n",
    "    max_times.sort()\n",
    "    total_times.sort()\n",
    "    return min_times, median_times, max_times, total_times\n",
    "\n",
    "\n",
    "cpu_min_times = []\n",
    "cpu_median_times = []\n",
    "cpu_max_times = []\n",
    "cpu_total_times = []\n",
    "gpu_min_times = []\n",
    "gpu_median_times = []\n",
    "gpu_max_times = []\n",
    "gpu_total_times = []\n",
    "cpu_query_total_times = []\n",
    "gpu_query_total_times = []\n",
    "for i in range(num_apps):\n",
    "    print(f\"Processing cpu profile {cpu_profile_dirs[i]}, event file {cpu_event_files[i]}\")\n",
    "    (cpu_min, cpu_median, cpu_max, cpu_total) = collect_scan_times(f\"{cpu_profiles}/{cpu_profile_dirs[i]}\",\n",
    "                                                                   f\"{cpu_events}/{cpu_event_files[i]}\")\n",
    "    print(f\"Processing gpu profile {gpu_profile_dirs[i]}, event file {gpu_event_files[i]}\")\n",
    "    (gpu_min, gpu_median, gpu_max, gpu_total) = collect_scan_times(f\"{gpu_profiles}/{gpu_profile_dirs[i]}\",\n",
    "                                                                   f\"{gpu_events}/{gpu_event_files[i]}\")\n",
    "    if len(cpu_min) != len(gpu_min):\n",
    "        print(f\"Warning: cpu and gpu scan times have different lengths: {len(cpu_min)} vs {len(gpu_min)}\")\n",
    "        continue\n",
    "    cpu_min_times.extend(cpu_min)\n",
    "    cpu_median_times.extend(cpu_median)\n",
    "    cpu_max_times.extend(cpu_max)\n",
    "    cpu_total_times.extend(cpu_total)\n",
    "    gpu_min_times.extend(gpu_min)\n",
    "    gpu_median_times.extend(gpu_median)\n",
    "    gpu_max_times.extend(gpu_max)\n",
    "    gpu_total_times.extend(gpu_total)\n",
    "    cpu_query_total_times.append(sum(cpu_total))\n",
    "    gpu_query_total_times.append(sum(gpu_total))"
   ],
   "metadata": {
    "collapsed": false
   },
   "id": "75275cfe783dd3d0",
   "execution_count": null
  },
  {
   "cell_type": "code",
   "outputs": [],
   "source": [
    "# Create a scatter plot\n",
    "plt.scatter(cpu_total_times, gpu_total_times)\n",
    "\n",
    "# Calculate the linear regression line\n",
    "slope, intercept = np.polyfit(cpu_total_times, gpu_total_times, 1)\n",
    "print(slope, intercept)\n",
    "regression_line = np.array(cpu_total_times) * slope + intercept\n",
    "\n",
    "# Plot the linear regression line\n",
    "plt.plot(cpu_total_times, regression_line, color='red')  # you can choose any color you like for the line\n",
    "\n",
    "# Adding title and labels (optional)\n",
    "plt.title(\"Total Scan Times\")\n",
    "plt.xlabel(\"CPU\")\n",
    "plt.ylabel(\"GPU\")\n",
    "\n",
    "# Show the plot\n",
    "plt.show()"
   ],
   "metadata": {
    "collapsed": false
   },
   "id": "2bc8bca893683344",
   "execution_count": null
  },
  {
   "cell_type": "code",
   "outputs": [],
   "source": [
    "# Create a scatter plot\n",
    "plt.scatter(cpu_query_total_times, gpu_query_total_times)\n",
    "print(len(cpu_query_total_times), len(gpu_query_total_times))\n",
    "\n",
    "# Calculate the linear regression line\n",
    "slope, intercept = np.polyfit(cpu_query_total_times, gpu_query_total_times, 1)\n",
    "print(slope, intercept)\n",
    "regression_line = np.array(cpu_query_total_times) * slope + intercept\n",
    "\n",
    "# Plot the linear regression line\n",
    "plt.plot(cpu_query_total_times, regression_line, color='red')  # you can choose any color you like for the line\n",
    "\n",
    "# Adding title and labels (optional)\n",
    "plt.title(\"Total Scan Times Per Query\")\n",
    "plt.xlabel(\"CPU\")\n",
    "plt.ylabel(\"GPU\")\n",
    "\n",
    "# Show the plot\n",
    "plt.show()"
   ],
   "metadata": {
    "collapsed": false
   },
   "id": "e5d6e30fb6fbf9ee",
   "execution_count": null
  },
  {
   "cell_type": "code",
   "outputs": [],
   "source": [],
   "metadata": {
    "collapsed": false
   },
   "id": "e890ababcc4be06c",
   "execution_count": null
  }
 ],
 "metadata": {
  "kernelspec": {
   "display_name": "Python 3",
   "language": "python",
   "name": "python3"
  },
  "language_info": {
   "codemirror_mode": {
    "name": "ipython",
    "version": 2
   },
   "file_extension": ".py",
   "mimetype": "text/x-python",
   "name": "python",
   "nbconvert_exporter": "python",
   "pygments_lexer": "ipython2",
   "version": "2.7.6"
  }
 },
 "nbformat": 4,
 "nbformat_minor": 5
}
