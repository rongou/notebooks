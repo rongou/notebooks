{
 "cells": [
  {
   "cell_type": "markdown",
   "source": [
    "Analyze GPU project operator in Spark event logs."
   ],
   "metadata": {
    "collapsed": false
   },
   "id": "1a9ef6873e585ed7"
  },
  {
   "cell_type": "code",
   "execution_count": null,
   "outputs": [],
   "source": [
    "import os\n",
    "\n",
    "import matplotlib.pyplot as plt\n",
    "import pandas as pd\n",
    "\n",
    "cpu_dir = \"/home/rou/src/spark-rapids-tools/dataproc-cpu-3k\"\n",
    "gpu_dir = \"/home/rou/src/spark-rapids-tools/dataproc-gpu-3k\"\n",
    "cpu_files = os.listdir(cpu_dir)\n",
    "cpu_files.sort()\n",
    "gpu_files = os.listdir(gpu_dir)\n",
    "gpu_files.sort()"
   ],
   "metadata": {
    "collapsed": false
   },
   "id": "9d7b008061acb215"
  },
  {
   "cell_type": "code",
   "execution_count": null,
   "outputs": [],
   "source": [
    "project_times = []\n",
    "for i, app in enumerate(gpu_files):\n",
    "    sql_info = pd.read_csv(gpu_dir + \"/\" + app + \"/sql_plan_metrics_for_application.csv\")\n",
    "    filtered_df = sql_info[(sql_info[\"name\"] == \"op time\") & (sql_info[\"nodeName\"] == \"GpuProject\")].copy()\n",
    "    filtered_df[\"appIndex\"] = i \n",
    "    filtered_df[\"app\"] = app \n",
    "    project_times.append(filtered_df) \n",
    "project_times_df = pd.concat(project_times)\n",
    "project_times_df[\"total milliseconds\"] = project_times_df[\"total\"] / 1000000\n",
    "project_times_df[project_times_df[\"appIndex\"] == 2]"
   ],
   "metadata": {
    "collapsed": false
   },
   "id": "d95d47700f30139"
  },
  {
   "cell_type": "code",
   "execution_count": null,
   "outputs": [],
   "source": [
    "codegen_times = []\n",
    "for i, app in enumerate(cpu_files) :\n",
    "    sql_info = pd.read_csv(cpu_dir + \"/\" + app + \"/sql_plan_metrics_for_application.csv\")\n",
    "    filtered_df = sql_info[(sql_info[\"name\"] == \"duration\") & sql_info[\"nodeName\"].str.startswith(\"WholeStageCodegen\")].copy()\n",
    "    filtered_df[\"appIndex\"] = i  \n",
    "    filtered_df[\"app\"] = app \n",
    "    codegen_times.append(filtered_df)\n",
    "codegen_times_df = pd.concat(codegen_times)\n",
    "codegen_times_df"
   ],
   "metadata": {
    "collapsed": false
   },
   "id": "ca673c73bbfceb6"
  },
  {
   "cell_type": "code",
   "execution_count": null,
   "outputs": [],
   "source": [
    "mappings = []\n",
    "for i, app in enumerate(cpu_files):\n",
    "    mapping_info = pd.read_csv(cpu_dir + \"/\" + app + \"/wholestagecodegen_mapping.csv\")\n",
    "    filtered_df = mapping_info[mapping_info[\"Child Node\"] == \"Project\"].copy()\n",
    "    filtered_df[\"appIndex\"] = i  \n",
    "    filtered_df[\"app\"] = app \n",
    "    mappings.append(filtered_df)\n",
    "mapping_df = pd.concat(mappings)\n",
    "mapping_df[mapping_df[\"appIndex\"] == 5]"
   ],
   "metadata": {
    "collapsed": false
   },
   "id": "9d70297364b64719"
  },
  {
   "cell_type": "code",
   "execution_count": null,
   "outputs": [],
   "source": [
    "combined_codegen = pd.merge(codegen_times_df, mapping_df, on=[\"appIndex\", \"sqlID\", \"nodeID\"], how=\"right\")\n",
    "combined_codegen"
   ],
   "metadata": {
    "collapsed": false
   },
   "id": "6a27e7658df5e315"
  },
  {
   "cell_type": "code",
   "execution_count": null,
   "outputs": [],
   "source": [
    "project_counts = project_times_df.groupby(\"appIndex\").size().reset_index(name=\"counts gpu\")\n",
    "codegen_counts = combined_codegen.groupby(\"appIndex\").size().reset_index(name=\"counts cpu\")\n",
    "combined_counts = pd.merge(project_counts, codegen_counts, on=\"appIndex\", how=\"outer\")\n",
    "combined_counts[combined_counts[\"counts gpu\"] != combined_counts[\"counts cpu\"]]"
   ],
   "metadata": {
    "collapsed": false
   },
   "id": "6b543c049f10314c"
  },
  {
   "cell_type": "markdown",
   "source": [
    "2 - query 24a: GPU misisng 1 `ReusedExchange`\n",
    "3 - query 24b: GPU misisng 1 `ReusedExchange`\n",
    "5 - query 47:\n",
    "  CPU: 14 `Project`s - 6 `ReusedExchange`s (3+3+0+0+0+0) = 8\n",
    "  GPU: 15 (extra project after window) `GpuProject`s - 3 `ReusedExchange`s (3+3+0) = 9\n",
    "6 - query 56:\n",
    "  CPU: 21 `Project`s - 5 out of 7 `ReusedExchange`s - 2 `ReusedSubquery` = 14\n",
    "  GPU: 21 `GpuProject`s - 5 out of 7 `ReusedExchange`s - 2 `ReusedSubquery` = 14???\n"
   ],
   "metadata": {
    "collapsed": false
   },
   "id": "50d4d9fb5a5d02e7"
  }
 ],
 "metadata": {
  "kernelspec": {
   "display_name": "Python 3",
   "language": "python",
   "name": "python3"
  },
  "language_info": {
   "codemirror_mode": {
    "name": "ipython",
    "version": 2
   },
   "file_extension": ".py",
   "mimetype": "text/x-python",
   "name": "python",
   "nbconvert_exporter": "python",
   "pygments_lexer": "ipython2",
   "version": "2.7.6"
  }
 },
 "nbformat": 4,
 "nbformat_minor": 5
}
