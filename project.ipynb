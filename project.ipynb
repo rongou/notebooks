{
 "cells": [
  {
   "cell_type": "markdown",
   "source": [
    "Analyze GPU project operator in Spark event logs."
   ],
   "metadata": {
    "collapsed": false
   },
   "id": "1a9ef6873e585ed7"
  },
  {
   "cell_type": "code",
   "execution_count": null,
   "outputs": [],
   "source": [
    "import os\n",
    "\n",
    "import matplotlib.pyplot as plt\n",
    "import pandas as pd\n",
    "\n",
    "cpu_dir = \"/opt/data/profiles/CPU-1k\"\n",
    "gpu_dir = \"/opt/data/profiles/GPU-1k\"\n",
    "cpu_files = os.listdir(cpu_dir)\n",
    "cpu_files.sort()\n",
    "gpu_files = os.listdir(gpu_dir)\n",
    "gpu_files.sort()"
   ],
   "metadata": {
    "collapsed": false
   },
   "id": "9d7b008061acb215"
  },
  {
   "cell_type": "code",
   "execution_count": null,
   "outputs": [],
   "source": [
    "project_times = []\n",
    "for i, app in enumerate(gpu_files):\n",
    "    sql_info = pd.read_csv(gpu_dir + \"/\" + app + \"/sql_plan_metrics_for_application.csv\")\n",
    "    filtered_df = sql_info[(sql_info[\"name\"] == \"op time\") & (sql_info[\"nodeName\"] == \"GpuProject\")].copy()\n",
    "    filtered_df[\"appIndex\"] = i \n",
    "    filtered_df[\"app\"] = app \n",
    "    project_times.append(filtered_df) \n",
    "project_times_df = pd.concat(project_times)\n",
    "project_times_df[\"total milliseconds\"] = project_times_df[\"total\"] / 1000000\n",
    "project_times_df"
   ],
   "metadata": {
    "collapsed": false
   },
   "id": "d95d47700f30139"
  },
  {
   "cell_type": "code",
   "execution_count": null,
   "outputs": [],
   "source": [
    "codegen_times = []\n",
    "for i, app in enumerate(cpu_files) :\n",
    "    sql_info = pd.read_csv(cpu_dir + \"/\" + app + \"/sql_plan_metrics_for_application.csv\")\n",
    "    filtered_df = sql_info[(sql_info[\"name\"] == \"duration\") & sql_info[\"nodeName\"].str.startswith(\"WholeStageCodegen\")].copy()\n",
    "    filtered_df[\"appIndex\"] = i  \n",
    "    filtered_df[\"app\"] = app \n",
    "    codegen_times.append(filtered_df)\n",
    "codegen_times_df = pd.concat(codegen_times)\n",
    "codegen_times_df"
   ],
   "metadata": {
    "collapsed": false
   },
   "id": "ca673c73bbfceb6"
  },
  {
   "cell_type": "code",
   "execution_count": null,
   "outputs": [],
   "source": [
    "mappings = []\n",
    "for i, app in enumerate(cpu_files):\n",
    "    mapping_info = pd.read_csv(cpu_dir + \"/\" + app + \"/wholestagecodegen_mapping.csv\")\n",
    "    filtered_df = mapping_info[mapping_info[\"Child Node\"] == \"Project\"].copy()\n",
    "    filtered_df[\"appIndex\"] = i  \n",
    "    filtered_df[\"app\"] = app \n",
    "    mappings.append(filtered_df)\n",
    "mapping_df = pd.concat(mappings)\n",
    "mapping_df[mapping_df[\"appIndex\"] ==101]"
   ],
   "metadata": {
    "collapsed": false
   },
   "id": "9d70297364b64719"
  },
  {
   "cell_type": "code",
   "execution_count": null,
   "outputs": [],
   "source": [
    "combined_codegen = pd.merge(codegen_times_df, mapping_df, on=[\"appIndex\", \"sqlID\", \"nodeID\"], how=\"right\")\n",
    "combined_codegen"
   ],
   "metadata": {
    "collapsed": false
   },
   "id": "6a27e7658df5e315"
  },
  {
   "cell_type": "code",
   "execution_count": null,
   "outputs": [],
   "source": [
    "project_counts = project_times_df.groupby(\"appIndex\").size().reset_index(name=\"counts gpu\")\n",
    "codegen_counts = combined_codegen.groupby(\"appIndex\").size().reset_index(name=\"counts cpu\")\n",
    "combined_counts = pd.merge(project_counts, codegen_counts, on=\"appIndex\", how=\"outer\")\n",
    "combined_counts[combined_counts[\"counts gpu\"] != combined_counts[\"counts cpu\"]]"
   ],
   "metadata": {
    "collapsed": false
   },
   "id": "6b543c049f10314c"
  },
  {
   "cell_type": "markdown",
   "source": [
    "11 - query 12: 1 project falls back to cpu\n",
    "20 - query 20: 1 project falls back to cpu\n",
    "50 - query 47: missing a branch (3 projects), an extra gpu project\n",
    "56 - query 53: 1 extra gpu project\n",
    "60 - query 57: missing a branch (3 projects), an extra gpu project\n",
    "61 - query 58: missing branches (4 projects), 1 project falls back to cpu\n",
    "64 - query 61: 1 project falls back to cpu\n",
    "66 - query 63: 1 extra gpu project after gpu window\n",
    "92 - query 89: 1 extra gpu project after gpu window\n",
    "101 - query 98: 1 project falls back to cpu"
   ],
   "metadata": {
    "collapsed": false
   },
   "id": "50d4d9fb5a5d02e7"
  }
 ],
 "metadata": {
  "kernelspec": {
   "display_name": "Python 3",
   "language": "python",
   "name": "python3"
  },
  "language_info": {
   "codemirror_mode": {
    "name": "ipython",
    "version": 2
   },
   "file_extension": ".py",
   "mimetype": "text/x-python",
   "name": "python",
   "nbconvert_exporter": "python",
   "pygments_lexer": "ipython2",
   "version": "2.7.6"
  }
 },
 "nbformat": 4,
 "nbformat_minor": 5
}
