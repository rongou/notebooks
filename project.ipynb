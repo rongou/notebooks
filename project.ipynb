{
 "cells": [
  {
   "cell_type": "markdown",
   "source": [
    "Analyze GPU project operator in Spark event logs."
   ],
   "metadata": {
    "collapsed": false
   },
   "id": "1a9ef6873e585ed7"
  },
  {
   "cell_type": "code",
   "execution_count": 14,
   "outputs": [],
   "source": [
    "import os\n",
    "\n",
    "import matplotlib.pyplot as plt\n",
    "import pandas as pd\n",
    "\n",
    "cpu_dir = \"/home/rou/src/spark-rapids-tools/dataproc-cpu-3k\"\n",
    "gpu_dir = \"/home/rou/src/spark-rapids-tools/dataproc-gpu-3k\"\n",
    "cpu_files = os.listdir(cpu_dir)\n",
    "cpu_files.sort()\n",
    "gpu_files = os.listdir(gpu_dir)\n",
    "gpu_files.sort()"
   ],
   "metadata": {
    "collapsed": false,
    "ExecuteTime": {
     "end_time": "2023-12-14T18:51:22.848096803Z",
     "start_time": "2023-12-14T18:51:22.832442530Z"
    }
   },
   "id": "9d7b008061acb215"
  },
  {
   "cell_type": "code",
   "execution_count": 15,
   "outputs": [
    {
     "data": {
      "text/plain": "     appIndex  sqlID  nodeID    nodeName  accumulatorId     name  min  \\\n37          2     24       6  GpuProject           5649  op time    0   \n123         2     24      19  GpuProject           5226  op time    0   \n171         2     24      26  GpuProject           4867  op time    0   \n210         2     24      31  GpuProject           4444  op time    0   \n249         2     24      36  GpuProject           3920  op time    0   \n258         2     24      38  GpuProject           3929  op time    0   \n267         2     24      40  GpuProject           3938  op time    0   \n301         2     24      45  GpuProject           2501  op time    0   \n379         2     24      55  GpuProject           2595  op time    0   \n576         2     24      81  GpuProject           7494  op time    0   \n624         2     24      88  GpuProject           7198  op time    0   \n663         2     24      93  GpuProject           6805  op time    0   \n672         2     24      95  GpuProject           6814  op time    0   \n711         2     24     100  GpuProject           6008  op time    0   \n720         2     24     102  GpuProject           6017  op time    0   \n\n      median       max      total metricType stageIds  \\\n37    151041   1692498   53696281   nsTiming  102,111   \n123   378235   1901274   73384334   nsTiming       51   \n171   652898  14195946  193721527   nsTiming       44   \n210   638620  17227634  224007359   nsTiming       39   \n249   494634   4207484  113717746   nsTiming       36   \n258  1122963   2485654  237128527   nsTiming       36   \n267   583248   2264972  127696529   nsTiming       36   \n301  2332531   2332531    2332531   nsTiming       34   \n379   817510  10245974  164620703   nsTiming       31   \n576   454728   3004255   97171207   nsTiming       76   \n624   454237  19683289  205978167   nsTiming       69   \n663   474656  24079110  154000287   nsTiming       64   \n672   536834  28673860  252557868   nsTiming       64   \n711  1149225   6123508  243431520   nsTiming       60   \n720   446174  14175232  121030336   nsTiming       60   \n\n                                app  total milliseconds  \n37   application_1701368813061_0003           53.696281  \n123  application_1701368813061_0003           73.384334  \n171  application_1701368813061_0003          193.721527  \n210  application_1701368813061_0003          224.007359  \n249  application_1701368813061_0003          113.717746  \n258  application_1701368813061_0003          237.128527  \n267  application_1701368813061_0003          127.696529  \n301  application_1701368813061_0003            2.332531  \n379  application_1701368813061_0003          164.620703  \n576  application_1701368813061_0003           97.171207  \n624  application_1701368813061_0003          205.978167  \n663  application_1701368813061_0003          154.000287  \n672  application_1701368813061_0003          252.557868  \n711  application_1701368813061_0003          243.431520  \n720  application_1701368813061_0003          121.030336  ",
      "text/html": "<div>\n<style scoped>\n    .dataframe tbody tr th:only-of-type {\n        vertical-align: middle;\n    }\n\n    .dataframe tbody tr th {\n        vertical-align: top;\n    }\n\n    .dataframe thead th {\n        text-align: right;\n    }\n</style>\n<table border=\"1\" class=\"dataframe\">\n  <thead>\n    <tr style=\"text-align: right;\">\n      <th></th>\n      <th>appIndex</th>\n      <th>sqlID</th>\n      <th>nodeID</th>\n      <th>nodeName</th>\n      <th>accumulatorId</th>\n      <th>name</th>\n      <th>min</th>\n      <th>median</th>\n      <th>max</th>\n      <th>total</th>\n      <th>metricType</th>\n      <th>stageIds</th>\n      <th>app</th>\n      <th>total milliseconds</th>\n    </tr>\n  </thead>\n  <tbody>\n    <tr>\n      <th>37</th>\n      <td>2</td>\n      <td>24</td>\n      <td>6</td>\n      <td>GpuProject</td>\n      <td>5649</td>\n      <td>op time</td>\n      <td>0</td>\n      <td>151041</td>\n      <td>1692498</td>\n      <td>53696281</td>\n      <td>nsTiming</td>\n      <td>102,111</td>\n      <td>application_1701368813061_0003</td>\n      <td>53.696281</td>\n    </tr>\n    <tr>\n      <th>123</th>\n      <td>2</td>\n      <td>24</td>\n      <td>19</td>\n      <td>GpuProject</td>\n      <td>5226</td>\n      <td>op time</td>\n      <td>0</td>\n      <td>378235</td>\n      <td>1901274</td>\n      <td>73384334</td>\n      <td>nsTiming</td>\n      <td>51</td>\n      <td>application_1701368813061_0003</td>\n      <td>73.384334</td>\n    </tr>\n    <tr>\n      <th>171</th>\n      <td>2</td>\n      <td>24</td>\n      <td>26</td>\n      <td>GpuProject</td>\n      <td>4867</td>\n      <td>op time</td>\n      <td>0</td>\n      <td>652898</td>\n      <td>14195946</td>\n      <td>193721527</td>\n      <td>nsTiming</td>\n      <td>44</td>\n      <td>application_1701368813061_0003</td>\n      <td>193.721527</td>\n    </tr>\n    <tr>\n      <th>210</th>\n      <td>2</td>\n      <td>24</td>\n      <td>31</td>\n      <td>GpuProject</td>\n      <td>4444</td>\n      <td>op time</td>\n      <td>0</td>\n      <td>638620</td>\n      <td>17227634</td>\n      <td>224007359</td>\n      <td>nsTiming</td>\n      <td>39</td>\n      <td>application_1701368813061_0003</td>\n      <td>224.007359</td>\n    </tr>\n    <tr>\n      <th>249</th>\n      <td>2</td>\n      <td>24</td>\n      <td>36</td>\n      <td>GpuProject</td>\n      <td>3920</td>\n      <td>op time</td>\n      <td>0</td>\n      <td>494634</td>\n      <td>4207484</td>\n      <td>113717746</td>\n      <td>nsTiming</td>\n      <td>36</td>\n      <td>application_1701368813061_0003</td>\n      <td>113.717746</td>\n    </tr>\n    <tr>\n      <th>258</th>\n      <td>2</td>\n      <td>24</td>\n      <td>38</td>\n      <td>GpuProject</td>\n      <td>3929</td>\n      <td>op time</td>\n      <td>0</td>\n      <td>1122963</td>\n      <td>2485654</td>\n      <td>237128527</td>\n      <td>nsTiming</td>\n      <td>36</td>\n      <td>application_1701368813061_0003</td>\n      <td>237.128527</td>\n    </tr>\n    <tr>\n      <th>267</th>\n      <td>2</td>\n      <td>24</td>\n      <td>40</td>\n      <td>GpuProject</td>\n      <td>3938</td>\n      <td>op time</td>\n      <td>0</td>\n      <td>583248</td>\n      <td>2264972</td>\n      <td>127696529</td>\n      <td>nsTiming</td>\n      <td>36</td>\n      <td>application_1701368813061_0003</td>\n      <td>127.696529</td>\n    </tr>\n    <tr>\n      <th>301</th>\n      <td>2</td>\n      <td>24</td>\n      <td>45</td>\n      <td>GpuProject</td>\n      <td>2501</td>\n      <td>op time</td>\n      <td>0</td>\n      <td>2332531</td>\n      <td>2332531</td>\n      <td>2332531</td>\n      <td>nsTiming</td>\n      <td>34</td>\n      <td>application_1701368813061_0003</td>\n      <td>2.332531</td>\n    </tr>\n    <tr>\n      <th>379</th>\n      <td>2</td>\n      <td>24</td>\n      <td>55</td>\n      <td>GpuProject</td>\n      <td>2595</td>\n      <td>op time</td>\n      <td>0</td>\n      <td>817510</td>\n      <td>10245974</td>\n      <td>164620703</td>\n      <td>nsTiming</td>\n      <td>31</td>\n      <td>application_1701368813061_0003</td>\n      <td>164.620703</td>\n    </tr>\n    <tr>\n      <th>576</th>\n      <td>2</td>\n      <td>24</td>\n      <td>81</td>\n      <td>GpuProject</td>\n      <td>7494</td>\n      <td>op time</td>\n      <td>0</td>\n      <td>454728</td>\n      <td>3004255</td>\n      <td>97171207</td>\n      <td>nsTiming</td>\n      <td>76</td>\n      <td>application_1701368813061_0003</td>\n      <td>97.171207</td>\n    </tr>\n    <tr>\n      <th>624</th>\n      <td>2</td>\n      <td>24</td>\n      <td>88</td>\n      <td>GpuProject</td>\n      <td>7198</td>\n      <td>op time</td>\n      <td>0</td>\n      <td>454237</td>\n      <td>19683289</td>\n      <td>205978167</td>\n      <td>nsTiming</td>\n      <td>69</td>\n      <td>application_1701368813061_0003</td>\n      <td>205.978167</td>\n    </tr>\n    <tr>\n      <th>663</th>\n      <td>2</td>\n      <td>24</td>\n      <td>93</td>\n      <td>GpuProject</td>\n      <td>6805</td>\n      <td>op time</td>\n      <td>0</td>\n      <td>474656</td>\n      <td>24079110</td>\n      <td>154000287</td>\n      <td>nsTiming</td>\n      <td>64</td>\n      <td>application_1701368813061_0003</td>\n      <td>154.000287</td>\n    </tr>\n    <tr>\n      <th>672</th>\n      <td>2</td>\n      <td>24</td>\n      <td>95</td>\n      <td>GpuProject</td>\n      <td>6814</td>\n      <td>op time</td>\n      <td>0</td>\n      <td>536834</td>\n      <td>28673860</td>\n      <td>252557868</td>\n      <td>nsTiming</td>\n      <td>64</td>\n      <td>application_1701368813061_0003</td>\n      <td>252.557868</td>\n    </tr>\n    <tr>\n      <th>711</th>\n      <td>2</td>\n      <td>24</td>\n      <td>100</td>\n      <td>GpuProject</td>\n      <td>6008</td>\n      <td>op time</td>\n      <td>0</td>\n      <td>1149225</td>\n      <td>6123508</td>\n      <td>243431520</td>\n      <td>nsTiming</td>\n      <td>60</td>\n      <td>application_1701368813061_0003</td>\n      <td>243.431520</td>\n    </tr>\n    <tr>\n      <th>720</th>\n      <td>2</td>\n      <td>24</td>\n      <td>102</td>\n      <td>GpuProject</td>\n      <td>6017</td>\n      <td>op time</td>\n      <td>0</td>\n      <td>446174</td>\n      <td>14175232</td>\n      <td>121030336</td>\n      <td>nsTiming</td>\n      <td>60</td>\n      <td>application_1701368813061_0003</td>\n      <td>121.030336</td>\n    </tr>\n  </tbody>\n</table>\n</div>"
     },
     "execution_count": 15,
     "metadata": {},
     "output_type": "execute_result"
    }
   ],
   "source": [
    "project_times = []\n",
    "for i, app in enumerate(gpu_files):\n",
    "    sql_info = pd.read_csv(gpu_dir + \"/\" + app + \"/sql_plan_metrics_for_application.csv\")\n",
    "    filtered_df = sql_info[(sql_info[\"name\"] == \"op time\") & (sql_info[\"nodeName\"] == \"GpuProject\")].copy()\n",
    "    filtered_df[\"appIndex\"] = i \n",
    "    filtered_df[\"app\"] = app \n",
    "    project_times.append(filtered_df) \n",
    "project_times_df = pd.concat(project_times)\n",
    "project_times_df[\"total milliseconds\"] = project_times_df[\"total\"] / 1000000\n",
    "project_times_df[project_times_df[\"appIndex\"] == 2]"
   ],
   "metadata": {
    "collapsed": false,
    "ExecuteTime": {
     "end_time": "2023-12-14T18:51:23.017066854Z",
     "start_time": "2023-12-14T18:51:22.848185651Z"
    }
   },
   "id": "d95d47700f30139"
  },
  {
   "cell_type": "code",
   "execution_count": 16,
   "outputs": [
    {
     "data": {
      "text/plain": "    appIndex  sqlID  nodeID               nodeName  accumulatorId      name  \\\n0          0     24       1  WholeStageCodegen (5)           1095  duration   \n16         0     24       5  WholeStageCodegen (4)           1058  duration   \n36         0     24      18  WholeStageCodegen (1)            887  duration   \n50         0     24      24  WholeStageCodegen (2)            896  duration   \n64         0     24      30  WholeStageCodegen (3)            905  duration   \n..       ...    ...     ...                    ...            ...       ...   \n17        11     24       6  WholeStageCodegen (5)           1247  duration   \n40        11     24      20  WholeStageCodegen (1)            925  duration   \n54        11     24      25  WholeStageCodegen (2)            934  duration   \n68        11     24      30  WholeStageCodegen (3)            943  duration   \n82        11     24      35  WholeStageCodegen (4)            952  duration   \n\n    min  median   max    total metricType stageIds  \\\n0     0     317   317      317     timing       36   \n16    0     570  4016  2035271     timing       34   \n36    0     651   651      651     timing       32   \n50    0     700   700      700     timing       33   \n64    0     637   637      637     timing       31   \n..  ...     ...   ...      ...        ...      ...   \n17    0     801  4360  2945574     timing       35   \n40    0     634   634      634     timing       32   \n54    0     665   665      665     timing       33   \n68    0     940   940      940     timing       31   \n82    0     739   739      739     timing       34   \n\n                               app  \n0   application_1701330728146_0001  \n16  application_1701330728146_0001  \n36  application_1701330728146_0001  \n50  application_1701330728146_0001  \n64  application_1701330728146_0001  \n..                             ...  \n17  application_1701380218879_0011  \n40  application_1701380218879_0011  \n54  application_1701380218879_0011  \n68  application_1701380218879_0011  \n82  application_1701380218879_0011  \n\n[1512 rows x 13 columns]",
      "text/html": "<div>\n<style scoped>\n    .dataframe tbody tr th:only-of-type {\n        vertical-align: middle;\n    }\n\n    .dataframe tbody tr th {\n        vertical-align: top;\n    }\n\n    .dataframe thead th {\n        text-align: right;\n    }\n</style>\n<table border=\"1\" class=\"dataframe\">\n  <thead>\n    <tr style=\"text-align: right;\">\n      <th></th>\n      <th>appIndex</th>\n      <th>sqlID</th>\n      <th>nodeID</th>\n      <th>nodeName</th>\n      <th>accumulatorId</th>\n      <th>name</th>\n      <th>min</th>\n      <th>median</th>\n      <th>max</th>\n      <th>total</th>\n      <th>metricType</th>\n      <th>stageIds</th>\n      <th>app</th>\n    </tr>\n  </thead>\n  <tbody>\n    <tr>\n      <th>0</th>\n      <td>0</td>\n      <td>24</td>\n      <td>1</td>\n      <td>WholeStageCodegen (5)</td>\n      <td>1095</td>\n      <td>duration</td>\n      <td>0</td>\n      <td>317</td>\n      <td>317</td>\n      <td>317</td>\n      <td>timing</td>\n      <td>36</td>\n      <td>application_1701330728146_0001</td>\n    </tr>\n    <tr>\n      <th>16</th>\n      <td>0</td>\n      <td>24</td>\n      <td>5</td>\n      <td>WholeStageCodegen (4)</td>\n      <td>1058</td>\n      <td>duration</td>\n      <td>0</td>\n      <td>570</td>\n      <td>4016</td>\n      <td>2035271</td>\n      <td>timing</td>\n      <td>34</td>\n      <td>application_1701330728146_0001</td>\n    </tr>\n    <tr>\n      <th>36</th>\n      <td>0</td>\n      <td>24</td>\n      <td>18</td>\n      <td>WholeStageCodegen (1)</td>\n      <td>887</td>\n      <td>duration</td>\n      <td>0</td>\n      <td>651</td>\n      <td>651</td>\n      <td>651</td>\n      <td>timing</td>\n      <td>32</td>\n      <td>application_1701330728146_0001</td>\n    </tr>\n    <tr>\n      <th>50</th>\n      <td>0</td>\n      <td>24</td>\n      <td>24</td>\n      <td>WholeStageCodegen (2)</td>\n      <td>896</td>\n      <td>duration</td>\n      <td>0</td>\n      <td>700</td>\n      <td>700</td>\n      <td>700</td>\n      <td>timing</td>\n      <td>33</td>\n      <td>application_1701330728146_0001</td>\n    </tr>\n    <tr>\n      <th>64</th>\n      <td>0</td>\n      <td>24</td>\n      <td>30</td>\n      <td>WholeStageCodegen (3)</td>\n      <td>905</td>\n      <td>duration</td>\n      <td>0</td>\n      <td>637</td>\n      <td>637</td>\n      <td>637</td>\n      <td>timing</td>\n      <td>31</td>\n      <td>application_1701330728146_0001</td>\n    </tr>\n    <tr>\n      <th>...</th>\n      <td>...</td>\n      <td>...</td>\n      <td>...</td>\n      <td>...</td>\n      <td>...</td>\n      <td>...</td>\n      <td>...</td>\n      <td>...</td>\n      <td>...</td>\n      <td>...</td>\n      <td>...</td>\n      <td>...</td>\n      <td>...</td>\n    </tr>\n    <tr>\n      <th>17</th>\n      <td>11</td>\n      <td>24</td>\n      <td>6</td>\n      <td>WholeStageCodegen (5)</td>\n      <td>1247</td>\n      <td>duration</td>\n      <td>0</td>\n      <td>801</td>\n      <td>4360</td>\n      <td>2945574</td>\n      <td>timing</td>\n      <td>35</td>\n      <td>application_1701380218879_0011</td>\n    </tr>\n    <tr>\n      <th>40</th>\n      <td>11</td>\n      <td>24</td>\n      <td>20</td>\n      <td>WholeStageCodegen (1)</td>\n      <td>925</td>\n      <td>duration</td>\n      <td>0</td>\n      <td>634</td>\n      <td>634</td>\n      <td>634</td>\n      <td>timing</td>\n      <td>32</td>\n      <td>application_1701380218879_0011</td>\n    </tr>\n    <tr>\n      <th>54</th>\n      <td>11</td>\n      <td>24</td>\n      <td>25</td>\n      <td>WholeStageCodegen (2)</td>\n      <td>934</td>\n      <td>duration</td>\n      <td>0</td>\n      <td>665</td>\n      <td>665</td>\n      <td>665</td>\n      <td>timing</td>\n      <td>33</td>\n      <td>application_1701380218879_0011</td>\n    </tr>\n    <tr>\n      <th>68</th>\n      <td>11</td>\n      <td>24</td>\n      <td>30</td>\n      <td>WholeStageCodegen (3)</td>\n      <td>943</td>\n      <td>duration</td>\n      <td>0</td>\n      <td>940</td>\n      <td>940</td>\n      <td>940</td>\n      <td>timing</td>\n      <td>31</td>\n      <td>application_1701380218879_0011</td>\n    </tr>\n    <tr>\n      <th>82</th>\n      <td>11</td>\n      <td>24</td>\n      <td>35</td>\n      <td>WholeStageCodegen (4)</td>\n      <td>952</td>\n      <td>duration</td>\n      <td>0</td>\n      <td>739</td>\n      <td>739</td>\n      <td>739</td>\n      <td>timing</td>\n      <td>34</td>\n      <td>application_1701380218879_0011</td>\n    </tr>\n  </tbody>\n</table>\n<p>1512 rows × 13 columns</p>\n</div>"
     },
     "execution_count": 16,
     "metadata": {},
     "output_type": "execute_result"
    }
   ],
   "source": [
    "codegen_times = []\n",
    "for i, app in enumerate(cpu_files) :\n",
    "    sql_info = pd.read_csv(cpu_dir + \"/\" + app + \"/sql_plan_metrics_for_application.csv\")\n",
    "    filtered_df = sql_info[(sql_info[\"name\"] == \"duration\") & sql_info[\"nodeName\"].str.startswith(\"WholeStageCodegen\")].copy()\n",
    "    filtered_df[\"appIndex\"] = i  \n",
    "    filtered_df[\"app\"] = app \n",
    "    codegen_times.append(filtered_df)\n",
    "codegen_times_df = pd.concat(codegen_times)\n",
    "codegen_times_df"
   ],
   "metadata": {
    "collapsed": false,
    "ExecuteTime": {
     "end_time": "2023-12-14T18:51:23.018333053Z",
     "start_time": "2023-12-14T18:51:22.995752359Z"
    }
   },
   "id": "ca673c73bbfceb6"
  },
  {
   "cell_type": "code",
   "execution_count": 17,
   "outputs": [
    {
     "data": {
      "text/plain": "    appIndex  sqlID  nodeID                SQL Node Child Node  Child NodeID  \\\n0          5     24       1  WholeStageCodegen (28)    Project             2   \n2          5     24       4  WholeStageCodegen (19)    Project             5   \n7          5     24      16   WholeStageCodegen (7)    Project            17   \n11         5     24      25   WholeStageCodegen (4)    Project            27   \n13         5     24      25   WholeStageCodegen (4)    Project            29   \n15         5     24      25   WholeStageCodegen (4)    Project            31   \n26         5     24      55  WholeStageCodegen (17)    Project            56   \n31         5     24      67  WholeStageCodegen (26)    Project            68   \n\n                               app  \n0   application_1701380218879_0005  \n2   application_1701380218879_0005  \n7   application_1701380218879_0005  \n11  application_1701380218879_0005  \n13  application_1701380218879_0005  \n15  application_1701380218879_0005  \n26  application_1701380218879_0005  \n31  application_1701380218879_0005  ",
      "text/html": "<div>\n<style scoped>\n    .dataframe tbody tr th:only-of-type {\n        vertical-align: middle;\n    }\n\n    .dataframe tbody tr th {\n        vertical-align: top;\n    }\n\n    .dataframe thead th {\n        text-align: right;\n    }\n</style>\n<table border=\"1\" class=\"dataframe\">\n  <thead>\n    <tr style=\"text-align: right;\">\n      <th></th>\n      <th>appIndex</th>\n      <th>sqlID</th>\n      <th>nodeID</th>\n      <th>SQL Node</th>\n      <th>Child Node</th>\n      <th>Child NodeID</th>\n      <th>app</th>\n    </tr>\n  </thead>\n  <tbody>\n    <tr>\n      <th>0</th>\n      <td>5</td>\n      <td>24</td>\n      <td>1</td>\n      <td>WholeStageCodegen (28)</td>\n      <td>Project</td>\n      <td>2</td>\n      <td>application_1701380218879_0005</td>\n    </tr>\n    <tr>\n      <th>2</th>\n      <td>5</td>\n      <td>24</td>\n      <td>4</td>\n      <td>WholeStageCodegen (19)</td>\n      <td>Project</td>\n      <td>5</td>\n      <td>application_1701380218879_0005</td>\n    </tr>\n    <tr>\n      <th>7</th>\n      <td>5</td>\n      <td>24</td>\n      <td>16</td>\n      <td>WholeStageCodegen (7)</td>\n      <td>Project</td>\n      <td>17</td>\n      <td>application_1701380218879_0005</td>\n    </tr>\n    <tr>\n      <th>11</th>\n      <td>5</td>\n      <td>24</td>\n      <td>25</td>\n      <td>WholeStageCodegen (4)</td>\n      <td>Project</td>\n      <td>27</td>\n      <td>application_1701380218879_0005</td>\n    </tr>\n    <tr>\n      <th>13</th>\n      <td>5</td>\n      <td>24</td>\n      <td>25</td>\n      <td>WholeStageCodegen (4)</td>\n      <td>Project</td>\n      <td>29</td>\n      <td>application_1701380218879_0005</td>\n    </tr>\n    <tr>\n      <th>15</th>\n      <td>5</td>\n      <td>24</td>\n      <td>25</td>\n      <td>WholeStageCodegen (4)</td>\n      <td>Project</td>\n      <td>31</td>\n      <td>application_1701380218879_0005</td>\n    </tr>\n    <tr>\n      <th>26</th>\n      <td>5</td>\n      <td>24</td>\n      <td>55</td>\n      <td>WholeStageCodegen (17)</td>\n      <td>Project</td>\n      <td>56</td>\n      <td>application_1701380218879_0005</td>\n    </tr>\n    <tr>\n      <th>31</th>\n      <td>5</td>\n      <td>24</td>\n      <td>67</td>\n      <td>WholeStageCodegen (26)</td>\n      <td>Project</td>\n      <td>68</td>\n      <td>application_1701380218879_0005</td>\n    </tr>\n  </tbody>\n</table>\n</div>"
     },
     "execution_count": 17,
     "metadata": {},
     "output_type": "execute_result"
    }
   ],
   "source": [
    "mappings = []\n",
    "for i, app in enumerate(cpu_files):\n",
    "    mapping_info = pd.read_csv(cpu_dir + \"/\" + app + \"/wholestagecodegen_mapping.csv\")\n",
    "    filtered_df = mapping_info[mapping_info[\"Child Node\"] == \"Project\"].copy()\n",
    "    filtered_df[\"appIndex\"] = i  \n",
    "    filtered_df[\"app\"] = app \n",
    "    mappings.append(filtered_df)\n",
    "mapping_df = pd.concat(mappings)\n",
    "mapping_df[mapping_df[\"appIndex\"] == 5]"
   ],
   "metadata": {
    "collapsed": false,
    "ExecuteTime": {
     "end_time": "2023-12-14T18:51:23.096136767Z",
     "start_time": "2023-12-14T18:51:22.999538441Z"
    }
   },
   "id": "9d70297364b64719"
  },
  {
   "cell_type": "code",
   "execution_count": 18,
   "outputs": [
    {
     "data": {
      "text/plain": "      appIndex  sqlID  nodeID               nodeName  accumulatorId      name  \\\n0            0     24       5  WholeStageCodegen (4)         1058.0  duration   \n1            0     24       5  WholeStageCodegen (4)         1058.0  duration   \n2            0     24       5  WholeStageCodegen (4)         1058.0  duration   \n3            0     24       5  WholeStageCodegen (4)         1058.0  duration   \n4            0     24      18  WholeStageCodegen (1)          887.0  duration   \n...        ...    ...     ...                    ...            ...       ...   \n1098        11     24       6  WholeStageCodegen (5)         1247.0  duration   \n1099        11     24       6  WholeStageCodegen (5)         1247.0  duration   \n1100        11     24       6  WholeStageCodegen (5)         1247.0  duration   \n1101        11     24       6  WholeStageCodegen (5)         1247.0  duration   \n1102        11     24      35  WholeStageCodegen (4)          952.0  duration   \n\n      min  median     max      total metricType stageIds  \\\n0     0.0   570.0  4016.0  2035271.0     timing       34   \n1     0.0   570.0  4016.0  2035271.0     timing       34   \n2     0.0   570.0  4016.0  2035271.0     timing       34   \n3     0.0   570.0  4016.0  2035271.0     timing       34   \n4     0.0   651.0   651.0      651.0     timing       32   \n...   ...     ...     ...        ...        ...      ...   \n1098  0.0   801.0  4360.0  2945574.0     timing       35   \n1099  0.0   801.0  4360.0  2945574.0     timing       35   \n1100  0.0   801.0  4360.0  2945574.0     timing       35   \n1101  0.0   801.0  4360.0  2945574.0     timing       35   \n1102  0.0   739.0   739.0      739.0     timing       34   \n\n                               app_x               SQL Node Child Node  \\\n0     application_1701330728146_0001  WholeStageCodegen (4)    Project   \n1     application_1701330728146_0001  WholeStageCodegen (4)    Project   \n2     application_1701330728146_0001  WholeStageCodegen (4)    Project   \n3     application_1701330728146_0001  WholeStageCodegen (4)    Project   \n4     application_1701330728146_0001  WholeStageCodegen (1)    Project   \n...                              ...                    ...        ...   \n1098  application_1701380218879_0011  WholeStageCodegen (5)    Project   \n1099  application_1701380218879_0011  WholeStageCodegen (5)    Project   \n1100  application_1701380218879_0011  WholeStageCodegen (5)    Project   \n1101  application_1701380218879_0011  WholeStageCodegen (5)    Project   \n1102  application_1701380218879_0011  WholeStageCodegen (4)    Project   \n\n      Child NodeID                           app_y  \n0                7  application_1701330728146_0001  \n1                9  application_1701330728146_0001  \n2               11  application_1701330728146_0001  \n3               13  application_1701330728146_0001  \n4               19  application_1701330728146_0001  \n...            ...                             ...  \n1098             8  application_1701380218879_0011  \n1099            10  application_1701380218879_0011  \n1100            12  application_1701380218879_0011  \n1101            14  application_1701380218879_0011  \n1102            36  application_1701380218879_0011  \n\n[1103 rows x 17 columns]",
      "text/html": "<div>\n<style scoped>\n    .dataframe tbody tr th:only-of-type {\n        vertical-align: middle;\n    }\n\n    .dataframe tbody tr th {\n        vertical-align: top;\n    }\n\n    .dataframe thead th {\n        text-align: right;\n    }\n</style>\n<table border=\"1\" class=\"dataframe\">\n  <thead>\n    <tr style=\"text-align: right;\">\n      <th></th>\n      <th>appIndex</th>\n      <th>sqlID</th>\n      <th>nodeID</th>\n      <th>nodeName</th>\n      <th>accumulatorId</th>\n      <th>name</th>\n      <th>min</th>\n      <th>median</th>\n      <th>max</th>\n      <th>total</th>\n      <th>metricType</th>\n      <th>stageIds</th>\n      <th>app_x</th>\n      <th>SQL Node</th>\n      <th>Child Node</th>\n      <th>Child NodeID</th>\n      <th>app_y</th>\n    </tr>\n  </thead>\n  <tbody>\n    <tr>\n      <th>0</th>\n      <td>0</td>\n      <td>24</td>\n      <td>5</td>\n      <td>WholeStageCodegen (4)</td>\n      <td>1058.0</td>\n      <td>duration</td>\n      <td>0.0</td>\n      <td>570.0</td>\n      <td>4016.0</td>\n      <td>2035271.0</td>\n      <td>timing</td>\n      <td>34</td>\n      <td>application_1701330728146_0001</td>\n      <td>WholeStageCodegen (4)</td>\n      <td>Project</td>\n      <td>7</td>\n      <td>application_1701330728146_0001</td>\n    </tr>\n    <tr>\n      <th>1</th>\n      <td>0</td>\n      <td>24</td>\n      <td>5</td>\n      <td>WholeStageCodegen (4)</td>\n      <td>1058.0</td>\n      <td>duration</td>\n      <td>0.0</td>\n      <td>570.0</td>\n      <td>4016.0</td>\n      <td>2035271.0</td>\n      <td>timing</td>\n      <td>34</td>\n      <td>application_1701330728146_0001</td>\n      <td>WholeStageCodegen (4)</td>\n      <td>Project</td>\n      <td>9</td>\n      <td>application_1701330728146_0001</td>\n    </tr>\n    <tr>\n      <th>2</th>\n      <td>0</td>\n      <td>24</td>\n      <td>5</td>\n      <td>WholeStageCodegen (4)</td>\n      <td>1058.0</td>\n      <td>duration</td>\n      <td>0.0</td>\n      <td>570.0</td>\n      <td>4016.0</td>\n      <td>2035271.0</td>\n      <td>timing</td>\n      <td>34</td>\n      <td>application_1701330728146_0001</td>\n      <td>WholeStageCodegen (4)</td>\n      <td>Project</td>\n      <td>11</td>\n      <td>application_1701330728146_0001</td>\n    </tr>\n    <tr>\n      <th>3</th>\n      <td>0</td>\n      <td>24</td>\n      <td>5</td>\n      <td>WholeStageCodegen (4)</td>\n      <td>1058.0</td>\n      <td>duration</td>\n      <td>0.0</td>\n      <td>570.0</td>\n      <td>4016.0</td>\n      <td>2035271.0</td>\n      <td>timing</td>\n      <td>34</td>\n      <td>application_1701330728146_0001</td>\n      <td>WholeStageCodegen (4)</td>\n      <td>Project</td>\n      <td>13</td>\n      <td>application_1701330728146_0001</td>\n    </tr>\n    <tr>\n      <th>4</th>\n      <td>0</td>\n      <td>24</td>\n      <td>18</td>\n      <td>WholeStageCodegen (1)</td>\n      <td>887.0</td>\n      <td>duration</td>\n      <td>0.0</td>\n      <td>651.0</td>\n      <td>651.0</td>\n      <td>651.0</td>\n      <td>timing</td>\n      <td>32</td>\n      <td>application_1701330728146_0001</td>\n      <td>WholeStageCodegen (1)</td>\n      <td>Project</td>\n      <td>19</td>\n      <td>application_1701330728146_0001</td>\n    </tr>\n    <tr>\n      <th>...</th>\n      <td>...</td>\n      <td>...</td>\n      <td>...</td>\n      <td>...</td>\n      <td>...</td>\n      <td>...</td>\n      <td>...</td>\n      <td>...</td>\n      <td>...</td>\n      <td>...</td>\n      <td>...</td>\n      <td>...</td>\n      <td>...</td>\n      <td>...</td>\n      <td>...</td>\n      <td>...</td>\n      <td>...</td>\n    </tr>\n    <tr>\n      <th>1098</th>\n      <td>11</td>\n      <td>24</td>\n      <td>6</td>\n      <td>WholeStageCodegen (5)</td>\n      <td>1247.0</td>\n      <td>duration</td>\n      <td>0.0</td>\n      <td>801.0</td>\n      <td>4360.0</td>\n      <td>2945574.0</td>\n      <td>timing</td>\n      <td>35</td>\n      <td>application_1701380218879_0011</td>\n      <td>WholeStageCodegen (5)</td>\n      <td>Project</td>\n      <td>8</td>\n      <td>application_1701380218879_0011</td>\n    </tr>\n    <tr>\n      <th>1099</th>\n      <td>11</td>\n      <td>24</td>\n      <td>6</td>\n      <td>WholeStageCodegen (5)</td>\n      <td>1247.0</td>\n      <td>duration</td>\n      <td>0.0</td>\n      <td>801.0</td>\n      <td>4360.0</td>\n      <td>2945574.0</td>\n      <td>timing</td>\n      <td>35</td>\n      <td>application_1701380218879_0011</td>\n      <td>WholeStageCodegen (5)</td>\n      <td>Project</td>\n      <td>10</td>\n      <td>application_1701380218879_0011</td>\n    </tr>\n    <tr>\n      <th>1100</th>\n      <td>11</td>\n      <td>24</td>\n      <td>6</td>\n      <td>WholeStageCodegen (5)</td>\n      <td>1247.0</td>\n      <td>duration</td>\n      <td>0.0</td>\n      <td>801.0</td>\n      <td>4360.0</td>\n      <td>2945574.0</td>\n      <td>timing</td>\n      <td>35</td>\n      <td>application_1701380218879_0011</td>\n      <td>WholeStageCodegen (5)</td>\n      <td>Project</td>\n      <td>12</td>\n      <td>application_1701380218879_0011</td>\n    </tr>\n    <tr>\n      <th>1101</th>\n      <td>11</td>\n      <td>24</td>\n      <td>6</td>\n      <td>WholeStageCodegen (5)</td>\n      <td>1247.0</td>\n      <td>duration</td>\n      <td>0.0</td>\n      <td>801.0</td>\n      <td>4360.0</td>\n      <td>2945574.0</td>\n      <td>timing</td>\n      <td>35</td>\n      <td>application_1701380218879_0011</td>\n      <td>WholeStageCodegen (5)</td>\n      <td>Project</td>\n      <td>14</td>\n      <td>application_1701380218879_0011</td>\n    </tr>\n    <tr>\n      <th>1102</th>\n      <td>11</td>\n      <td>24</td>\n      <td>35</td>\n      <td>WholeStageCodegen (4)</td>\n      <td>952.0</td>\n      <td>duration</td>\n      <td>0.0</td>\n      <td>739.0</td>\n      <td>739.0</td>\n      <td>739.0</td>\n      <td>timing</td>\n      <td>34</td>\n      <td>application_1701380218879_0011</td>\n      <td>WholeStageCodegen (4)</td>\n      <td>Project</td>\n      <td>36</td>\n      <td>application_1701380218879_0011</td>\n    </tr>\n  </tbody>\n</table>\n<p>1103 rows × 17 columns</p>\n</div>"
     },
     "execution_count": 18,
     "metadata": {},
     "output_type": "execute_result"
    }
   ],
   "source": [
    "combined_codegen = pd.merge(codegen_times_df, mapping_df, on=[\"appIndex\", \"sqlID\", \"nodeID\"], how=\"right\")\n",
    "combined_codegen"
   ],
   "metadata": {
    "collapsed": false,
    "ExecuteTime": {
     "end_time": "2023-12-14T18:51:23.096992909Z",
     "start_time": "2023-12-14T18:51:23.039870783Z"
    }
   },
   "id": "6a27e7658df5e315"
  },
  {
   "cell_type": "code",
   "execution_count": 19,
   "outputs": [
    {
     "data": {
      "text/plain": "   appIndex  counts gpu  counts cpu\n0         0        1042         987\n2         2          15          14\n3         3          15          14\n5         5           9           8\n6         6          13          12",
      "text/html": "<div>\n<style scoped>\n    .dataframe tbody tr th:only-of-type {\n        vertical-align: middle;\n    }\n\n    .dataframe tbody tr th {\n        vertical-align: top;\n    }\n\n    .dataframe thead th {\n        text-align: right;\n    }\n</style>\n<table border=\"1\" class=\"dataframe\">\n  <thead>\n    <tr style=\"text-align: right;\">\n      <th></th>\n      <th>appIndex</th>\n      <th>counts gpu</th>\n      <th>counts cpu</th>\n    </tr>\n  </thead>\n  <tbody>\n    <tr>\n      <th>0</th>\n      <td>0</td>\n      <td>1042</td>\n      <td>987</td>\n    </tr>\n    <tr>\n      <th>2</th>\n      <td>2</td>\n      <td>15</td>\n      <td>14</td>\n    </tr>\n    <tr>\n      <th>3</th>\n      <td>3</td>\n      <td>15</td>\n      <td>14</td>\n    </tr>\n    <tr>\n      <th>5</th>\n      <td>5</td>\n      <td>9</td>\n      <td>8</td>\n    </tr>\n    <tr>\n      <th>6</th>\n      <td>6</td>\n      <td>13</td>\n      <td>12</td>\n    </tr>\n  </tbody>\n</table>\n</div>"
     },
     "execution_count": 19,
     "metadata": {},
     "output_type": "execute_result"
    }
   ],
   "source": [
    "project_counts = project_times_df.groupby(\"appIndex\").size().reset_index(name=\"counts gpu\")\n",
    "codegen_counts = combined_codegen.groupby(\"appIndex\").size().reset_index(name=\"counts cpu\")\n",
    "combined_counts = pd.merge(project_counts, codegen_counts, on=\"appIndex\", how=\"outer\")\n",
    "combined_counts[combined_counts[\"counts gpu\"] != combined_counts[\"counts cpu\"]]"
   ],
   "metadata": {
    "collapsed": false,
    "ExecuteTime": {
     "end_time": "2023-12-14T18:51:23.097600680Z",
     "start_time": "2023-12-14T18:51:23.040243268Z"
    }
   },
   "id": "6b543c049f10314c"
  },
  {
   "cell_type": "markdown",
   "source": [
    "2 - query 24a: GPU misisng 1 `ReusedExchange`\n",
    "3 - query 24b: GPU misisng 1 `ReusedExchange`\n",
    "5 - query 47:\n",
    "  CPU: 14 `Project`s - 6 `ReusedExchange`s (3+3+0+0+0+0) = 8\n",
    "  GPU: 15 (extra project after window) `GpuProject`s - 3 `ReusedExchange`s (3+3+0) = 9\n",
    "6 - query 56:\n",
    "  CPU: 21 `Project`s - 5 out of 7 `ReusedExchange`s - 2 `ReusedSubquery` = 14\n",
    "  GPU: 21 `GpuProject`s - 5 out of 7 `ReusedExchange`s - 2 `ReusedSubquery` = 14???\n"
   ],
   "metadata": {
    "collapsed": false
   },
   "id": "50d4d9fb5a5d02e7"
  }
 ],
 "metadata": {
  "kernelspec": {
   "display_name": "Python 3",
   "language": "python",
   "name": "python3"
  },
  "language_info": {
   "codemirror_mode": {
    "name": "ipython",
    "version": 2
   },
   "file_extension": ".py",
   "mimetype": "text/x-python",
   "name": "python",
   "nbconvert_exporter": "python",
   "pygments_lexer": "ipython2",
   "version": "2.7.6"
  }
 },
 "nbformat": 4,
 "nbformat_minor": 5
}
