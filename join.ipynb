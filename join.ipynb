{
 "cells": [
  {
   "cell_type": "markdown",
   "source": [
    "Parse the profiler output to compare output rows and op times for GPU shuffled hash join operations.\n",
    "On the CPU the equivalent is a sort merge join."
   ],
   "metadata": {
    "collapsed": false
   },
   "id": "38b70794d584d102"
  },
  {
   "cell_type": "code",
   "execution_count": null,
   "outputs": [],
   "source": [
    "import os\n",
    "\n",
    "import matplotlib.pyplot as plt\n",
    "import numpy as np\n",
    "import pandas as pd\n",
    "\n",
    "profile_dirs = [\"/opt/data/profiles/dataproc-gpu-sf100\",\n",
    "                \"/opt/data/profiles/dataproc-gpu-sf3k\",\n",
    "                \"/opt/data/profiles/dataproc-gpu-sf5k\",\n",
    "                \"/opt/data/profiles/dataproc-gpu-sf10k\"]\n",
    "scale_factors = [\"100\", \"3K\", \"5K\", \"10K\"]"
   ],
   "metadata": {
    "collapsed": false
   },
   "id": "4bfab33d0f98d9ce"
  },
  {
   "cell_type": "code",
   "outputs": [],
   "source": [
    "num_scale_factors = len(profile_dirs)\n",
    "output_rows = [[] for _ in range(num_scale_factors)]\n",
    "op_times = [[] for _ in range(num_scale_factors)]\n",
    "for i, profile_dir in enumerate(profile_dirs):\n",
    "    apps = os.listdir(profile_dir)\n",
    "    apps.sort()\n",
    "    for app in apps:\n",
    "        print(f\"Processing gpu profile {profile_dir}/{app}\")\n",
    "        sql_info = pd.read_csv(f\"{profile_dir}/{app}/sql_plan_metrics_for_application.csv\")\n",
    "        condition = (sql_info['nodeName'] == 'GpuShuffledHashJoin')\n",
    "        filtered = sql_info[condition]\n",
    "        grouped = filtered.groupby(\"nodeID\")\n",
    "        for _, group in grouped:\n",
    "            output_rows_for_op = 0\n",
    "            op_time_for_op = 0\n",
    "            for row in group.itertuples():\n",
    "                if row.name == \"output rows\":\n",
    "                    output_rows_for_op = row.total\n",
    "                elif row.name == \"op time\":\n",
    "                    op_time_for_op = row.total / 1000000.\n",
    "            if output_rows_for_op != 0 and op_time_for_op != 0:\n",
    "                output_rows[i].append(output_rows_for_op)\n",
    "                op_times[i].append(op_time_for_op)\n",
    "print([len(x) for x in output_rows])\n",
    "print([len(x) for x in op_times])"
   ],
   "metadata": {
    "collapsed": false
   },
   "id": "75275cfe783dd3d0",
   "execution_count": null
  },
  {
   "cell_type": "code",
   "outputs": [],
   "source": [
    "for i in range(num_scale_factors):\n",
    "    # Create a scatter plot\n",
    "    plt.scatter(output_rows[i], op_times[i])\n",
    "    plt.xscale('log')\n",
    "    plt.yscale('log')\n",
    "    \n",
    "    # Adding title and labels (optional)\n",
    "    plt.title(f\"GPU Shuffled Hash Join Op Times - SF{scale_factors[i]}\")\n",
    "    plt.xlabel(\"Output Rows\")\n",
    "    plt.ylabel(\"GPU Op Time (ms)\")\n",
    "    \n",
    "    # Show the plot\n",
    "    plt.show()"
   ],
   "metadata": {
    "collapsed": false
   },
   "id": "2bc8bca893683344",
   "execution_count": null
  },
  {
   "cell_type": "code",
   "outputs": [],
   "source": [
    "for i in range(num_scale_factors):\n",
    "    plt.scatter(output_rows[i], op_times[i], label=f\"SF{scale_factors[i]}\")\n",
    "\n",
    "plt.xscale('log')\n",
    "plt.yscale('log')\n",
    "plt.title(\"GPU Shuffled Hash Join Op Times - Combined\")\n",
    "plt.xlabel(\"Output Rows\")\n",
    "plt.ylabel(\"GPU Op Time (ms)\")\n",
    "plt.legend()\n",
    "\n",
    "# Show the plot\n",
    "plt.show()"
   ],
   "metadata": {
    "collapsed": false
   },
   "id": "10d7416139113d3",
   "execution_count": null
  }
 ],
 "metadata": {
  "kernelspec": {
   "display_name": "Python 3",
   "language": "python",
   "name": "python3"
  },
  "language_info": {
   "codemirror_mode": {
    "name": "ipython",
    "version": 2
   },
   "file_extension": ".py",
   "mimetype": "text/x-python",
   "name": "python",
   "nbconvert_exporter": "python",
   "pygments_lexer": "ipython2",
   "version": "2.7.6"
  }
 },
 "nbformat": 4,
 "nbformat_minor": 5
}
