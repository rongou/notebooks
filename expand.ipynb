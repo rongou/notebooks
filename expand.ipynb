{
 "cells": [
  {
   "cell_type": "markdown",
   "id": "38b70794d584d102",
   "metadata": {
    "collapsed": false
   },
   "source": [
    "Parse the profiler output to compare output rows and op times for GPU expand operations."
   ]
  },
  {
   "cell_type": "code",
   "execution_count": null,
   "id": "4bfab33d0f98d9ce",
   "metadata": {
    "collapsed": false
   },
   "outputs": [],
   "source": [
    "%matplotlib notebook\n",
    "import os\n",
    "\n",
    "import matplotlib.pyplot as plt\n",
    "import numpy as np\n",
    "import pandas as pd\n",
    "\n",
    "profile_dirs = [\"/opt/data/profiles/dataproc-gpu-sf100\",\n",
    "                \"/opt/data/profiles/dataproc-gpu-sf3k\",\n",
    "                \"/opt/data/profiles/dataproc-gpu-sf5k\",\n",
    "                \"/opt/data/profiles/dataproc-gpu-sf10k\"]"
   ]
  },
  {
   "cell_type": "code",
   "execution_count": null,
   "id": "75275cfe783dd3d0",
   "metadata": {
    "collapsed": false
   },
   "outputs": [],
   "source": [
    "input_rows = []\n",
    "output_rows = []\n",
    "op_times = []\n",
    "for profile_dir in profile_dirs:\n",
    "    apps = os.listdir(profile_dir)\n",
    "    apps.sort()\n",
    "    for app in apps:\n",
    "        print(f\"Processing gpu profile {app}\")\n",
    "        sql_info = pd.read_csv(f\"{profile_dir}/{app}/sql_plan_metrics_for_application.csv\")\n",
    "        condition = (sql_info['nodeName'] == 'GpuExpand')\n",
    "        filtered = sql_info[condition]\n",
    "        grouped = filtered.groupby(\"nodeID\")\n",
    "        for _, group in grouped:\n",
    "            for row in group.itertuples():\n",
    "                if row.name == \"input rows\":\n",
    "                    input_rows.append(row.total)\n",
    "                elif row.name == \"output rows\":\n",
    "                    output_rows.append(row.total)\n",
    "                elif row.name == \"op time\":\n",
    "                    op_times.append(row.total / 1000000.)\n",
    "print(input_rows)\n",
    "print(output_rows)\n",
    "print(op_times)"
   ]
  },
  {
   "cell_type": "code",
   "execution_count": null,
   "id": "2bc8bca893683344",
   "metadata": {
    "collapsed": false
   },
   "outputs": [],
   "source": [
    "fig = plt.figure(figsize=(10, 8))\n",
    "ax = fig.add_subplot(projection='3d')\n",
    "ax.scatter(np.log(input_rows), np.log(output_rows), np.log(op_times))\n",
    "ax.set_xlabel(\"Input Rows (log)\")\n",
    "ax.set_ylabel(\"Output Rows (log)\")\n",
    "ax.set_zlabel(\"Op Time (ms) (log)\")\n",
    "ax.set_title(f\"GPU Expand Op Times - Combined\")\n",
    "plt.show()"
   ]
  }
 ],
 "metadata": {
  "kernelspec": {
   "display_name": "Python 3 (ipykernel)",
   "language": "python",
   "name": "python3"
  },
  "language_info": {
   "codemirror_mode": {
    "name": "ipython",
    "version": 3
   },
   "file_extension": ".py",
   "mimetype": "text/x-python",
   "name": "python",
   "nbconvert_exporter": "python",
   "pygments_lexer": "ipython3",
   "version": "3.12.0"
  }
 },
 "nbformat": 4,
 "nbformat_minor": 5
}
