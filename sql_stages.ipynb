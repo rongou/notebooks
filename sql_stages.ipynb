{
 "cells": [
  {
   "cell_type": "markdown",
   "source": [
    "Parse the profiler output to sum up stage durations vs sql durations."
   ],
   "metadata": {
    "collapsed": false
   },
   "id": "38b70794d584d102"
  },
  {
   "cell_type": "code",
   "execution_count": null,
   "outputs": [],
   "source": [
    "import os\n",
    "\n",
    "import pandas as pd\n",
    "from matplotlib import pyplot as plt\n",
    "\n",
    "cpu_profile_dirs = [\"/opt/data/profiles/dataproc-cpu-sf100\",\n",
    "                    \"/opt/data/profiles/dataproc-cpu-sf3k\",\n",
    "                    \"/opt/data/profiles/dataproc-cpu-sf5k\",\n",
    "                    \"/opt/data/profiles/dataproc-cpu-sf10k\"]\n",
    "gpu_profile_dirs = [\"/opt/data/profiles/dataproc-gpu-sf100\",\n",
    "                    \"/opt/data/profiles/dataproc-gpu-sf3k\",\n",
    "                    \"/opt/data/profiles/dataproc-gpu-sf5k\",\n",
    "                    \"/opt/data/profiles/dataproc-gpu-sf10k\"]\n",
    "scale_factors = [\"100\", \"3K\", \"5K\", \"10K\"]"
   ],
   "metadata": {
    "collapsed": false
   },
   "id": "4bfab33d0f98d9ce"
  },
  {
   "cell_type": "code",
   "outputs": [],
   "source": [
    "def sum_sql_stage_durations(profile):\n",
    "    df = pd.read_csv(f\"{profile}/sql_to_stage_information.csv\")\n",
    "    grouped = df.groupby('sqlID')['Stage Duration'].sum()\n",
    "    return grouped.to_dict()\n",
    "\n",
    "\n",
    "def collect_sql_times(profile, stage_sums_map, sql_times, stage_times):\n",
    "    df = pd.read_csv(f\"{profile}/sql_duration_and_executor_cpu_time_percent.csv\")\n",
    "    for _, row in df.iterrows():\n",
    "        sql_id = row['sqlID']\n",
    "        if sql_id in stage_sums_map:\n",
    "            sql_times.append(row['SQL Duration'])\n",
    "            stage_times.append(stage_sums_map[sql_id])\n",
    "\n",
    "\n",
    "num_scale_factors = len(scale_factors)\n",
    "# num_scale_factors = 1\n",
    "num_cpu_stages = 0\n",
    "num_gpu_stages = 0\n",
    "cpu_sql_times = [[] for _ in range(num_scale_factors)]\n",
    "cpu_stage_times = [[] for _ in range(num_scale_factors)]\n",
    "gpu_sql_times = [[] for _ in range(num_scale_factors)]\n",
    "gpu_stage_times = [[] for _ in range(num_scale_factors)]\n",
    "for i in range(num_scale_factors):\n",
    "    cpu_apps = os.listdir(cpu_profile_dirs[i])\n",
    "    cpu_apps.sort()\n",
    "    gpu_apps = os.listdir(gpu_profile_dirs[i])\n",
    "    gpu_apps.sort()\n",
    "    assert len(cpu_apps) == len(gpu_apps)\n",
    "    for j in range(len(cpu_apps)):\n",
    "        # for j in range(1):\n",
    "        print(f\"Processing cpu profile {cpu_apps[j]}, gpu profile {gpu_apps[j]}, scale factor {scale_factors[i]}...\")\n",
    "        cpu_stage_sums = sum_sql_stage_durations(f\"{cpu_profile_dirs[i]}/{cpu_apps[j]}\")\n",
    "        collect_sql_times(f\"{cpu_profile_dirs[i]}/{cpu_apps[j]}\", cpu_stage_sums, cpu_sql_times[i], cpu_stage_times[i])\n",
    "        gpu_stage_sums = sum_sql_stage_durations(f\"{gpu_profile_dirs[i]}/{gpu_apps[j]}\")\n",
    "        collect_sql_times(f\"{gpu_profile_dirs[i]}/{gpu_apps[j]}\", gpu_stage_sums, gpu_sql_times[i], gpu_stage_times[i])"
   ],
   "metadata": {
    "collapsed": false
   },
   "id": "75275cfe783dd3d0",
   "execution_count": null
  },
  {
   "cell_type": "code",
   "outputs": [],
   "source": [
    "for i in range(num_scale_factors):\n",
    "    plt.scatter(cpu_stage_times[i], cpu_sql_times[i])\n",
    "    plt.xscale('log')\n",
    "    plt.yscale('log')\n",
    "    plt.title(f\"CPU SQL vs Stage Durations - SF{scale_factors[i]}\")\n",
    "    plt.xlabel(\"Sum of Stage Durations\")\n",
    "    plt.ylabel(\"SQL Duration\")\n",
    "    plt.show()"
   ],
   "metadata": {
    "collapsed": false
   },
   "id": "78cb63674b6bf9be",
   "execution_count": null
  },
  {
   "cell_type": "code",
   "outputs": [],
   "source": [
    "for i in range(num_scale_factors):\n",
    "    plt.scatter(gpu_stage_times[i], gpu_sql_times[i])\n",
    "    plt.xscale('log')\n",
    "    plt.yscale('log')\n",
    "    plt.title(f\"GPU SQL vs Stage Durations - SF{scale_factors[i]}\")\n",
    "    plt.xlabel(\"Sum of Stage Durations\")\n",
    "    plt.ylabel(\"SQL Duration\")\n",
    "    plt.show()"
   ],
   "metadata": {
    "collapsed": false
   },
   "id": "53263d2a0b29bf31",
   "execution_count": null
  },
  {
   "cell_type": "code",
   "outputs": [],
   "source": [
    "for i in range(num_scale_factors):\n",
    "    plt.scatter(cpu_stage_times[i], cpu_sql_times[i], label=f\"SF{scale_factors[i]}\")\n",
    "plt.xscale('log')\n",
    "plt.yscale('log')\n",
    "plt.title(\"CPU SQL vs Stage Durations - Combined\")\n",
    "plt.xlabel(\"Sum of Stage Durations\")\n",
    "plt.ylabel(\"SQL Duration\")\n",
    "plt.legend()\n",
    "plt.show()"
   ],
   "metadata": {
    "collapsed": false
   },
   "id": "34370f9a9d0b2703",
   "execution_count": null
  },
  {
   "cell_type": "code",
   "outputs": [],
   "source": [
    "for i in range(num_scale_factors):\n",
    "    plt.scatter(gpu_stage_times[i], gpu_sql_times[i], label=f\"SF{scale_factors[i]}\")\n",
    "plt.xscale('log')\n",
    "plt.yscale('log')\n",
    "plt.title(\"GPU SQL vs Stage Durations - Combined\")\n",
    "plt.xlabel(\"Sum of Stage Durations\")\n",
    "plt.ylabel(\"SQL Duration\")\n",
    "plt.legend()\n",
    "plt.show()"
   ],
   "metadata": {
    "collapsed": false
   },
   "id": "d839f9b59efac736",
   "execution_count": null
  },
  {
   "cell_type": "code",
   "outputs": [],
   "source": [
    "for i in range(num_scale_factors):\n",
    "    plt.scatter(gpu_stage_times[i], cpu_sql_times[i])\n",
    "    plt.xscale('log')\n",
    "    plt.yscale('log')\n",
    "    plt.title(f\"CPU SQL vs GPU Stage Durations - SF{scale_factors[i]}\")\n",
    "    plt.xlabel(\"GPU Sum of Stage Durations\")\n",
    "    plt.ylabel(\"CPU SQL Duration\")\n",
    "    plt.show()"
   ],
   "metadata": {
    "collapsed": false
   },
   "id": "e8a72a8445c1a6df",
   "execution_count": null
  },
  {
   "cell_type": "code",
   "outputs": [],
   "source": [
    "for i in range(num_scale_factors):\n",
    "    plt.scatter(gpu_stage_times[i], cpu_sql_times[i], label=f\"SF{scale_factors[i]}\")\n",
    "plt.xscale('log')\n",
    "plt.yscale('log')\n",
    "plt.title(\"CPU SQL vs GPU Stage Durations - Combined\")\n",
    "plt.xlabel(\"GPU Sum of Stage Durations\")\n",
    "plt.ylabel(\"CPU SQL Duration\")\n",
    "plt.legend()\n",
    "plt.show()"
   ],
   "metadata": {
    "collapsed": false
   },
   "id": "c1a1186dfe772501",
   "execution_count": null
  }
 ],
 "metadata": {
  "kernelspec": {
   "display_name": "Python 3",
   "language": "python",
   "name": "python3"
  },
  "language_info": {
   "codemirror_mode": {
    "name": "ipython",
    "version": 2
   },
   "file_extension": ".py",
   "mimetype": "text/x-python",
   "name": "python",
   "nbconvert_exporter": "python",
   "pygments_lexer": "ipython2",
   "version": "2.7.6"
  }
 },
 "nbformat": 4,
 "nbformat_minor": 5
}
