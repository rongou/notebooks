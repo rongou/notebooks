{
 "cells": [
  {
   "cell_type": "markdown",
   "source": [
    "Analyze GPU scan parquet operator in Spark event logs."
   ],
   "metadata": {
    "collapsed": false
   },
   "id": "1a9ef6873e585ed7"
  },
  {
   "cell_type": "code",
   "execution_count": 1,
   "outputs": [],
   "source": [
    "import os\n",
    "\n",
    "import matplotlib.pyplot as plt\n",
    "import pandas as pd\n",
    "\n",
    "cpu_dir = \"/home/rou/src/spark-rapids-tools/CPU-3k-new\"\n",
    "gpu_dir = \"/home/rou/src/spark-rapids-tools/GPU-3k-new\"\n",
    "cpu_files = os.listdir(cpu_dir)\n",
    "cpu_files.sort()\n",
    "gpu_files = os.listdir(gpu_dir)\n",
    "gpu_files.sort()"
   ],
   "metadata": {
    "collapsed": false,
    "ExecuteTime": {
     "end_time": "2023-12-19T23:58:42.500419415Z",
     "start_time": "2023-12-19T23:58:41.944653725Z"
    }
   },
   "id": "9d7b008061acb215"
  },
  {
   "cell_type": "code",
   "execution_count": 2,
   "outputs": [
    {
     "data": {
      "text/plain": "     appIndex  sqlID  nodeID          nodeName  accumulatorId       name  min  \\\n150         3     24      39  GpuScan parquet            1480  scan time    0   \n181         3     24      45  GpuScan parquet            1514  scan time    0   \n203         3     24      49  GpuScan parquet            1538  scan time    0   \n223         3     24      53  GpuScan parquet            1559  scan time    0   \n305         3     24      71  GpuScan parquet            1653  scan time    0   \n327         3     24      75  GpuScan parquet            1677  scan time    0   \n347         3     24      79  GpuScan parquet            1698  scan time    0   \n435         3     24     100  GpuScan parquet            1799  scan time    0   \n524         3     24     119  GpuScan parquet            1900  scan time    0   \n616         3     24     140  GpuScan parquet            2005  scan time    0   \n705         3     24     159  GpuScan parquet            2106  scan time    0   \n\n     median   max  total metricType stageIds                      app  \n150       1   655   6465     timing       36  app-20220210142923-0431  \n181     448  1547  91984     timing       46  app-20220210142923-0431  \n203      62    62     62     timing       31  app-20220210142923-0431  \n223      52    52     52     timing       33  app-20220210142923-0431  \n305     514  1044  80903     timing       35  app-20220210142923-0431  \n327      57    57     57     timing       32  app-20220210142923-0431  \n347      55    55     55     timing       34  app-20220210142923-0431  \n435     284   874  64582     timing       44  app-20220210142923-0431  \n524     268   871  53209     timing       40  app-20220210142923-0431  \n616     118   265  19605     timing       38  app-20220210142923-0431  \n705     259   769  49348     timing       42  app-20220210142923-0431  ",
      "text/html": "<div>\n<style scoped>\n    .dataframe tbody tr th:only-of-type {\n        vertical-align: middle;\n    }\n\n    .dataframe tbody tr th {\n        vertical-align: top;\n    }\n\n    .dataframe thead th {\n        text-align: right;\n    }\n</style>\n<table border=\"1\" class=\"dataframe\">\n  <thead>\n    <tr style=\"text-align: right;\">\n      <th></th>\n      <th>appIndex</th>\n      <th>sqlID</th>\n      <th>nodeID</th>\n      <th>nodeName</th>\n      <th>accumulatorId</th>\n      <th>name</th>\n      <th>min</th>\n      <th>median</th>\n      <th>max</th>\n      <th>total</th>\n      <th>metricType</th>\n      <th>stageIds</th>\n      <th>app</th>\n    </tr>\n  </thead>\n  <tbody>\n    <tr>\n      <th>150</th>\n      <td>3</td>\n      <td>24</td>\n      <td>39</td>\n      <td>GpuScan parquet</td>\n      <td>1480</td>\n      <td>scan time</td>\n      <td>0</td>\n      <td>1</td>\n      <td>655</td>\n      <td>6465</td>\n      <td>timing</td>\n      <td>36</td>\n      <td>app-20220210142923-0431</td>\n    </tr>\n    <tr>\n      <th>181</th>\n      <td>3</td>\n      <td>24</td>\n      <td>45</td>\n      <td>GpuScan parquet</td>\n      <td>1514</td>\n      <td>scan time</td>\n      <td>0</td>\n      <td>448</td>\n      <td>1547</td>\n      <td>91984</td>\n      <td>timing</td>\n      <td>46</td>\n      <td>app-20220210142923-0431</td>\n    </tr>\n    <tr>\n      <th>203</th>\n      <td>3</td>\n      <td>24</td>\n      <td>49</td>\n      <td>GpuScan parquet</td>\n      <td>1538</td>\n      <td>scan time</td>\n      <td>0</td>\n      <td>62</td>\n      <td>62</td>\n      <td>62</td>\n      <td>timing</td>\n      <td>31</td>\n      <td>app-20220210142923-0431</td>\n    </tr>\n    <tr>\n      <th>223</th>\n      <td>3</td>\n      <td>24</td>\n      <td>53</td>\n      <td>GpuScan parquet</td>\n      <td>1559</td>\n      <td>scan time</td>\n      <td>0</td>\n      <td>52</td>\n      <td>52</td>\n      <td>52</td>\n      <td>timing</td>\n      <td>33</td>\n      <td>app-20220210142923-0431</td>\n    </tr>\n    <tr>\n      <th>305</th>\n      <td>3</td>\n      <td>24</td>\n      <td>71</td>\n      <td>GpuScan parquet</td>\n      <td>1653</td>\n      <td>scan time</td>\n      <td>0</td>\n      <td>514</td>\n      <td>1044</td>\n      <td>80903</td>\n      <td>timing</td>\n      <td>35</td>\n      <td>app-20220210142923-0431</td>\n    </tr>\n    <tr>\n      <th>327</th>\n      <td>3</td>\n      <td>24</td>\n      <td>75</td>\n      <td>GpuScan parquet</td>\n      <td>1677</td>\n      <td>scan time</td>\n      <td>0</td>\n      <td>57</td>\n      <td>57</td>\n      <td>57</td>\n      <td>timing</td>\n      <td>32</td>\n      <td>app-20220210142923-0431</td>\n    </tr>\n    <tr>\n      <th>347</th>\n      <td>3</td>\n      <td>24</td>\n      <td>79</td>\n      <td>GpuScan parquet</td>\n      <td>1698</td>\n      <td>scan time</td>\n      <td>0</td>\n      <td>55</td>\n      <td>55</td>\n      <td>55</td>\n      <td>timing</td>\n      <td>34</td>\n      <td>app-20220210142923-0431</td>\n    </tr>\n    <tr>\n      <th>435</th>\n      <td>3</td>\n      <td>24</td>\n      <td>100</td>\n      <td>GpuScan parquet</td>\n      <td>1799</td>\n      <td>scan time</td>\n      <td>0</td>\n      <td>284</td>\n      <td>874</td>\n      <td>64582</td>\n      <td>timing</td>\n      <td>44</td>\n      <td>app-20220210142923-0431</td>\n    </tr>\n    <tr>\n      <th>524</th>\n      <td>3</td>\n      <td>24</td>\n      <td>119</td>\n      <td>GpuScan parquet</td>\n      <td>1900</td>\n      <td>scan time</td>\n      <td>0</td>\n      <td>268</td>\n      <td>871</td>\n      <td>53209</td>\n      <td>timing</td>\n      <td>40</td>\n      <td>app-20220210142923-0431</td>\n    </tr>\n    <tr>\n      <th>616</th>\n      <td>3</td>\n      <td>24</td>\n      <td>140</td>\n      <td>GpuScan parquet</td>\n      <td>2005</td>\n      <td>scan time</td>\n      <td>0</td>\n      <td>118</td>\n      <td>265</td>\n      <td>19605</td>\n      <td>timing</td>\n      <td>38</td>\n      <td>app-20220210142923-0431</td>\n    </tr>\n    <tr>\n      <th>705</th>\n      <td>3</td>\n      <td>24</td>\n      <td>159</td>\n      <td>GpuScan parquet</td>\n      <td>2106</td>\n      <td>scan time</td>\n      <td>0</td>\n      <td>259</td>\n      <td>769</td>\n      <td>49348</td>\n      <td>timing</td>\n      <td>42</td>\n      <td>app-20220210142923-0431</td>\n    </tr>\n  </tbody>\n</table>\n</div>"
     },
     "execution_count": 2,
     "metadata": {},
     "output_type": "execute_result"
    }
   ],
   "source": [
    "gpu_scan_times = []\n",
    "for i, app in enumerate(gpu_files):\n",
    "    sql_info = pd.read_csv(gpu_dir + \"/\" + app + \"/sql_plan_metrics_for_application.csv\")\n",
    "    filtered_df = sql_info[(sql_info[\"name\"] == \"scan time\") & (sql_info[\"nodeName\"] == \"GpuScan parquet \")].copy()\n",
    "    filtered_df[\"appIndex\"] = i \n",
    "    filtered_df[\"app\"] = app \n",
    "    filtered_df.drop_duplicates(subset=[\"accumulatorId\"], inplace=True)\n",
    "    gpu_scan_times.append(filtered_df) \n",
    "gpu_scan_times_df = pd.concat(gpu_scan_times)\n",
    "gpu_scan_times_df[gpu_scan_times_df[\"appIndex\"] == 3]"
   ],
   "metadata": {
    "collapsed": false,
    "ExecuteTime": {
     "end_time": "2023-12-19T23:58:42.690995246Z",
     "start_time": "2023-12-19T23:58:42.500353971Z"
    }
   },
   "id": "d95d47700f30139"
  },
  {
   "cell_type": "code",
   "execution_count": 3,
   "outputs": [
    {
     "data": {
      "text/plain": "     appIndex  sqlID  nodeID       nodeName  accumulatorId       name  min  \\\n64         14     24      24  Scan parquet            2791  scan time    0   \n84         14     24      32  Scan parquet            2811  scan time    0   \n95         14     24      38  Scan parquet            2822  scan time    0   \n125        14     24      49  Scan parquet            2842  scan time    0   \n179        14     24      68  Scan parquet            2880  scan time    0   \n199        14     24      76  Scan parquet            2900  scan time    0   \n213        14     24      81  Scan parquet            2914  scan time    0   \n227        14     24      87  Scan parquet            2900  scan time    0   \n252        14     24      98  Scan parquet            2929  scan time    0   \n270        14     24     103  Scan parquet            2947  scan time    0   \n295        14     24     114  Scan parquet            2962  scan time    0   \n328        14     24     123  Scan parquet            2985  scan time    0   \n358        14     24     135  Scan parquet            2842  scan time    0   \n412        14     24     154  Scan parquet            3029  scan time    0   \n432        14     24     161  Scan parquet            3049  scan time    0   \n446        14     24     166  Scan parquet            2914  scan time    0   \n460        14     24     172  Scan parquet            2900  scan time    0   \n485        14     24     183  Scan parquet            3064  scan time    0   \n505        14     24     190  Scan parquet            3084  scan time    0   \n519        14     24     195  Scan parquet            2947  scan time    0   \n544        14     24     206  Scan parquet            3099  scan time    0   \n564        14     24     213  Scan parquet            3119  scan time    0   \n578        14     24     219  Scan parquet            2811  scan time    0   \n605        14     24     231  Scan parquet            3142  scan time    0   \n625        14     24     239  Scan parquet            3162  scan time    0   \n639        14     24     245  Scan parquet            3162  scan time    0   \n648        14     24     250  Scan parquet            3171  scan time    0   \n661        14     24     255  Scan parquet            3184  scan time    0   \n715        14     24     275  Scan parquet            3220  scan time    0   \n735        14     24     283  Scan parquet            3240  scan time    0   \n746        14     24     289  Scan parquet            3251  scan time    0   \n764        14     24     297  Scan parquet            3240  scan time    0   \n\n     median   max    total metricType stageIds                      app  \n64       38   370    44548     timing       57  app-20220208014431-0190  \n84      663   663      663     timing       41  app-20220208014431-0190  \n95      342   342      342     timing       31  app-20220208014431-0190  \n125     613   737     4241     timing       35  app-20220208014431-0190  \n179      60  1349   135198     timing       54  app-20220208014431-0190  \n199     723   723      723     timing       37  app-20220208014431-0190  \n213     603   695     4587     timing       34  app-20220208014431-0190  \n227     723   723      723     timing       37  app-20220208014431-0190  \n252      50  1298   311951     timing       52  app-20220208014431-0190  \n270     573   828     4824     timing       36  app-20220208014431-0190  \n295      41   244    65181     timing       53  app-20220208014431-0190  \n328      62   296      900     timing       45  app-20220208014431-0190  \n358     613   737     4241     timing       35  app-20220208014431-0190  \n412     121  1417   302182     timing       46  app-20220208014431-0190  \n432     680   680      680     timing       38  app-20220208014431-0190  \n446     603   695     4587     timing       34  app-20220208014431-0190  \n460     723   723      723     timing       37  app-20220208014431-0190  \n485      51   482   102737     timing       47  app-20220208014431-0190  \n505     843   843      843     timing       39  app-20220208014431-0190  \n519     573   828     4824     timing       36  app-20220208014431-0190  \n544      44   200    66302     timing       48  app-20220208014431-0190  \n564    1006  1006     1006     timing       40  app-20220208014431-0190  \n578     663   663      663     timing       41  app-20220208014431-0190  \n605     326  1998  1046550     timing       43  app-20220208014431-0190  \n625     818   818      818     timing       33  app-20220208014431-0190  \n639     818   818      818     timing       33  app-20220208014431-0190  \n648     123   547   240223     timing       43  app-20220208014431-0190  \n661     136   873   239148     timing       43  app-20220208014431-0190  \n715     117  1327   169504     timing       62  app-20220208014431-0190  \n735    1195  1195     1195     timing       42  app-20220208014431-0190  \n746     851   851      851     timing       32  app-20220208014431-0190  \n764    1195  1195     1195     timing       42  app-20220208014431-0190  ",
      "text/html": "<div>\n<style scoped>\n    .dataframe tbody tr th:only-of-type {\n        vertical-align: middle;\n    }\n\n    .dataframe tbody tr th {\n        vertical-align: top;\n    }\n\n    .dataframe thead th {\n        text-align: right;\n    }\n</style>\n<table border=\"1\" class=\"dataframe\">\n  <thead>\n    <tr style=\"text-align: right;\">\n      <th></th>\n      <th>appIndex</th>\n      <th>sqlID</th>\n      <th>nodeID</th>\n      <th>nodeName</th>\n      <th>accumulatorId</th>\n      <th>name</th>\n      <th>min</th>\n      <th>median</th>\n      <th>max</th>\n      <th>total</th>\n      <th>metricType</th>\n      <th>stageIds</th>\n      <th>app</th>\n    </tr>\n  </thead>\n  <tbody>\n    <tr>\n      <th>64</th>\n      <td>14</td>\n      <td>24</td>\n      <td>24</td>\n      <td>Scan parquet</td>\n      <td>2791</td>\n      <td>scan time</td>\n      <td>0</td>\n      <td>38</td>\n      <td>370</td>\n      <td>44548</td>\n      <td>timing</td>\n      <td>57</td>\n      <td>app-20220208014431-0190</td>\n    </tr>\n    <tr>\n      <th>84</th>\n      <td>14</td>\n      <td>24</td>\n      <td>32</td>\n      <td>Scan parquet</td>\n      <td>2811</td>\n      <td>scan time</td>\n      <td>0</td>\n      <td>663</td>\n      <td>663</td>\n      <td>663</td>\n      <td>timing</td>\n      <td>41</td>\n      <td>app-20220208014431-0190</td>\n    </tr>\n    <tr>\n      <th>95</th>\n      <td>14</td>\n      <td>24</td>\n      <td>38</td>\n      <td>Scan parquet</td>\n      <td>2822</td>\n      <td>scan time</td>\n      <td>0</td>\n      <td>342</td>\n      <td>342</td>\n      <td>342</td>\n      <td>timing</td>\n      <td>31</td>\n      <td>app-20220208014431-0190</td>\n    </tr>\n    <tr>\n      <th>125</th>\n      <td>14</td>\n      <td>24</td>\n      <td>49</td>\n      <td>Scan parquet</td>\n      <td>2842</td>\n      <td>scan time</td>\n      <td>0</td>\n      <td>613</td>\n      <td>737</td>\n      <td>4241</td>\n      <td>timing</td>\n      <td>35</td>\n      <td>app-20220208014431-0190</td>\n    </tr>\n    <tr>\n      <th>179</th>\n      <td>14</td>\n      <td>24</td>\n      <td>68</td>\n      <td>Scan parquet</td>\n      <td>2880</td>\n      <td>scan time</td>\n      <td>0</td>\n      <td>60</td>\n      <td>1349</td>\n      <td>135198</td>\n      <td>timing</td>\n      <td>54</td>\n      <td>app-20220208014431-0190</td>\n    </tr>\n    <tr>\n      <th>199</th>\n      <td>14</td>\n      <td>24</td>\n      <td>76</td>\n      <td>Scan parquet</td>\n      <td>2900</td>\n      <td>scan time</td>\n      <td>0</td>\n      <td>723</td>\n      <td>723</td>\n      <td>723</td>\n      <td>timing</td>\n      <td>37</td>\n      <td>app-20220208014431-0190</td>\n    </tr>\n    <tr>\n      <th>213</th>\n      <td>14</td>\n      <td>24</td>\n      <td>81</td>\n      <td>Scan parquet</td>\n      <td>2914</td>\n      <td>scan time</td>\n      <td>0</td>\n      <td>603</td>\n      <td>695</td>\n      <td>4587</td>\n      <td>timing</td>\n      <td>34</td>\n      <td>app-20220208014431-0190</td>\n    </tr>\n    <tr>\n      <th>227</th>\n      <td>14</td>\n      <td>24</td>\n      <td>87</td>\n      <td>Scan parquet</td>\n      <td>2900</td>\n      <td>scan time</td>\n      <td>0</td>\n      <td>723</td>\n      <td>723</td>\n      <td>723</td>\n      <td>timing</td>\n      <td>37</td>\n      <td>app-20220208014431-0190</td>\n    </tr>\n    <tr>\n      <th>252</th>\n      <td>14</td>\n      <td>24</td>\n      <td>98</td>\n      <td>Scan parquet</td>\n      <td>2929</td>\n      <td>scan time</td>\n      <td>0</td>\n      <td>50</td>\n      <td>1298</td>\n      <td>311951</td>\n      <td>timing</td>\n      <td>52</td>\n      <td>app-20220208014431-0190</td>\n    </tr>\n    <tr>\n      <th>270</th>\n      <td>14</td>\n      <td>24</td>\n      <td>103</td>\n      <td>Scan parquet</td>\n      <td>2947</td>\n      <td>scan time</td>\n      <td>0</td>\n      <td>573</td>\n      <td>828</td>\n      <td>4824</td>\n      <td>timing</td>\n      <td>36</td>\n      <td>app-20220208014431-0190</td>\n    </tr>\n    <tr>\n      <th>295</th>\n      <td>14</td>\n      <td>24</td>\n      <td>114</td>\n      <td>Scan parquet</td>\n      <td>2962</td>\n      <td>scan time</td>\n      <td>0</td>\n      <td>41</td>\n      <td>244</td>\n      <td>65181</td>\n      <td>timing</td>\n      <td>53</td>\n      <td>app-20220208014431-0190</td>\n    </tr>\n    <tr>\n      <th>328</th>\n      <td>14</td>\n      <td>24</td>\n      <td>123</td>\n      <td>Scan parquet</td>\n      <td>2985</td>\n      <td>scan time</td>\n      <td>0</td>\n      <td>62</td>\n      <td>296</td>\n      <td>900</td>\n      <td>timing</td>\n      <td>45</td>\n      <td>app-20220208014431-0190</td>\n    </tr>\n    <tr>\n      <th>358</th>\n      <td>14</td>\n      <td>24</td>\n      <td>135</td>\n      <td>Scan parquet</td>\n      <td>2842</td>\n      <td>scan time</td>\n      <td>0</td>\n      <td>613</td>\n      <td>737</td>\n      <td>4241</td>\n      <td>timing</td>\n      <td>35</td>\n      <td>app-20220208014431-0190</td>\n    </tr>\n    <tr>\n      <th>412</th>\n      <td>14</td>\n      <td>24</td>\n      <td>154</td>\n      <td>Scan parquet</td>\n      <td>3029</td>\n      <td>scan time</td>\n      <td>0</td>\n      <td>121</td>\n      <td>1417</td>\n      <td>302182</td>\n      <td>timing</td>\n      <td>46</td>\n      <td>app-20220208014431-0190</td>\n    </tr>\n    <tr>\n      <th>432</th>\n      <td>14</td>\n      <td>24</td>\n      <td>161</td>\n      <td>Scan parquet</td>\n      <td>3049</td>\n      <td>scan time</td>\n      <td>0</td>\n      <td>680</td>\n      <td>680</td>\n      <td>680</td>\n      <td>timing</td>\n      <td>38</td>\n      <td>app-20220208014431-0190</td>\n    </tr>\n    <tr>\n      <th>446</th>\n      <td>14</td>\n      <td>24</td>\n      <td>166</td>\n      <td>Scan parquet</td>\n      <td>2914</td>\n      <td>scan time</td>\n      <td>0</td>\n      <td>603</td>\n      <td>695</td>\n      <td>4587</td>\n      <td>timing</td>\n      <td>34</td>\n      <td>app-20220208014431-0190</td>\n    </tr>\n    <tr>\n      <th>460</th>\n      <td>14</td>\n      <td>24</td>\n      <td>172</td>\n      <td>Scan parquet</td>\n      <td>2900</td>\n      <td>scan time</td>\n      <td>0</td>\n      <td>723</td>\n      <td>723</td>\n      <td>723</td>\n      <td>timing</td>\n      <td>37</td>\n      <td>app-20220208014431-0190</td>\n    </tr>\n    <tr>\n      <th>485</th>\n      <td>14</td>\n      <td>24</td>\n      <td>183</td>\n      <td>Scan parquet</td>\n      <td>3064</td>\n      <td>scan time</td>\n      <td>0</td>\n      <td>51</td>\n      <td>482</td>\n      <td>102737</td>\n      <td>timing</td>\n      <td>47</td>\n      <td>app-20220208014431-0190</td>\n    </tr>\n    <tr>\n      <th>505</th>\n      <td>14</td>\n      <td>24</td>\n      <td>190</td>\n      <td>Scan parquet</td>\n      <td>3084</td>\n      <td>scan time</td>\n      <td>0</td>\n      <td>843</td>\n      <td>843</td>\n      <td>843</td>\n      <td>timing</td>\n      <td>39</td>\n      <td>app-20220208014431-0190</td>\n    </tr>\n    <tr>\n      <th>519</th>\n      <td>14</td>\n      <td>24</td>\n      <td>195</td>\n      <td>Scan parquet</td>\n      <td>2947</td>\n      <td>scan time</td>\n      <td>0</td>\n      <td>573</td>\n      <td>828</td>\n      <td>4824</td>\n      <td>timing</td>\n      <td>36</td>\n      <td>app-20220208014431-0190</td>\n    </tr>\n    <tr>\n      <th>544</th>\n      <td>14</td>\n      <td>24</td>\n      <td>206</td>\n      <td>Scan parquet</td>\n      <td>3099</td>\n      <td>scan time</td>\n      <td>0</td>\n      <td>44</td>\n      <td>200</td>\n      <td>66302</td>\n      <td>timing</td>\n      <td>48</td>\n      <td>app-20220208014431-0190</td>\n    </tr>\n    <tr>\n      <th>564</th>\n      <td>14</td>\n      <td>24</td>\n      <td>213</td>\n      <td>Scan parquet</td>\n      <td>3119</td>\n      <td>scan time</td>\n      <td>0</td>\n      <td>1006</td>\n      <td>1006</td>\n      <td>1006</td>\n      <td>timing</td>\n      <td>40</td>\n      <td>app-20220208014431-0190</td>\n    </tr>\n    <tr>\n      <th>578</th>\n      <td>14</td>\n      <td>24</td>\n      <td>219</td>\n      <td>Scan parquet</td>\n      <td>2811</td>\n      <td>scan time</td>\n      <td>0</td>\n      <td>663</td>\n      <td>663</td>\n      <td>663</td>\n      <td>timing</td>\n      <td>41</td>\n      <td>app-20220208014431-0190</td>\n    </tr>\n    <tr>\n      <th>605</th>\n      <td>14</td>\n      <td>24</td>\n      <td>231</td>\n      <td>Scan parquet</td>\n      <td>3142</td>\n      <td>scan time</td>\n      <td>0</td>\n      <td>326</td>\n      <td>1998</td>\n      <td>1046550</td>\n      <td>timing</td>\n      <td>43</td>\n      <td>app-20220208014431-0190</td>\n    </tr>\n    <tr>\n      <th>625</th>\n      <td>14</td>\n      <td>24</td>\n      <td>239</td>\n      <td>Scan parquet</td>\n      <td>3162</td>\n      <td>scan time</td>\n      <td>0</td>\n      <td>818</td>\n      <td>818</td>\n      <td>818</td>\n      <td>timing</td>\n      <td>33</td>\n      <td>app-20220208014431-0190</td>\n    </tr>\n    <tr>\n      <th>639</th>\n      <td>14</td>\n      <td>24</td>\n      <td>245</td>\n      <td>Scan parquet</td>\n      <td>3162</td>\n      <td>scan time</td>\n      <td>0</td>\n      <td>818</td>\n      <td>818</td>\n      <td>818</td>\n      <td>timing</td>\n      <td>33</td>\n      <td>app-20220208014431-0190</td>\n    </tr>\n    <tr>\n      <th>648</th>\n      <td>14</td>\n      <td>24</td>\n      <td>250</td>\n      <td>Scan parquet</td>\n      <td>3171</td>\n      <td>scan time</td>\n      <td>0</td>\n      <td>123</td>\n      <td>547</td>\n      <td>240223</td>\n      <td>timing</td>\n      <td>43</td>\n      <td>app-20220208014431-0190</td>\n    </tr>\n    <tr>\n      <th>661</th>\n      <td>14</td>\n      <td>24</td>\n      <td>255</td>\n      <td>Scan parquet</td>\n      <td>3184</td>\n      <td>scan time</td>\n      <td>0</td>\n      <td>136</td>\n      <td>873</td>\n      <td>239148</td>\n      <td>timing</td>\n      <td>43</td>\n      <td>app-20220208014431-0190</td>\n    </tr>\n    <tr>\n      <th>715</th>\n      <td>14</td>\n      <td>24</td>\n      <td>275</td>\n      <td>Scan parquet</td>\n      <td>3220</td>\n      <td>scan time</td>\n      <td>0</td>\n      <td>117</td>\n      <td>1327</td>\n      <td>169504</td>\n      <td>timing</td>\n      <td>62</td>\n      <td>app-20220208014431-0190</td>\n    </tr>\n    <tr>\n      <th>735</th>\n      <td>14</td>\n      <td>24</td>\n      <td>283</td>\n      <td>Scan parquet</td>\n      <td>3240</td>\n      <td>scan time</td>\n      <td>0</td>\n      <td>1195</td>\n      <td>1195</td>\n      <td>1195</td>\n      <td>timing</td>\n      <td>42</td>\n      <td>app-20220208014431-0190</td>\n    </tr>\n    <tr>\n      <th>746</th>\n      <td>14</td>\n      <td>24</td>\n      <td>289</td>\n      <td>Scan parquet</td>\n      <td>3251</td>\n      <td>scan time</td>\n      <td>0</td>\n      <td>851</td>\n      <td>851</td>\n      <td>851</td>\n      <td>timing</td>\n      <td>32</td>\n      <td>app-20220208014431-0190</td>\n    </tr>\n    <tr>\n      <th>764</th>\n      <td>14</td>\n      <td>24</td>\n      <td>297</td>\n      <td>Scan parquet</td>\n      <td>3240</td>\n      <td>scan time</td>\n      <td>0</td>\n      <td>1195</td>\n      <td>1195</td>\n      <td>1195</td>\n      <td>timing</td>\n      <td>42</td>\n      <td>app-20220208014431-0190</td>\n    </tr>\n  </tbody>\n</table>\n</div>"
     },
     "execution_count": 3,
     "metadata": {},
     "output_type": "execute_result"
    }
   ],
   "source": [
    "cpu_scan_times = []\n",
    "for i, app in enumerate(cpu_files) :\n",
    "    sql_info = pd.read_csv(cpu_dir + \"/\" + app + \"/sql_plan_metrics_for_application.csv\")\n",
    "    filtered_df = sql_info[(sql_info[\"name\"] == \"scan time\") & (sql_info[\"nodeName\"] == \"Scan parquet \")].copy()\n",
    "    filtered_df[\"appIndex\"] = i  \n",
    "    filtered_df[\"app\"] = app \n",
    "    # filtered_df.drop_duplicates(subset=[\"accumulatorId\"], inplace=True)\n",
    "    cpu_scan_times.append(filtered_df)\n",
    "cpu_scan_times_df = pd.concat(cpu_scan_times)\n",
    "cpu_scan_times_df[cpu_scan_times_df[\"appIndex\"] == 14]"
   ],
   "metadata": {
    "collapsed": false,
    "ExecuteTime": {
     "end_time": "2023-12-19T23:58:42.849298571Z",
     "start_time": "2023-12-19T23:58:42.688775380Z"
    }
   },
   "id": "ca673c73bbfceb6"
  },
  {
   "cell_type": "code",
   "execution_count": 4,
   "outputs": [
    {
     "data": {
      "text/plain": "     appIndex  counts gpu  counts cpu\n0           0           5           6\n4           4          11          12\n5           5           7           8\n6           6           5           6\n7           7           6           7\n..        ...         ...         ...\n93         94           7           8\n94         95           4           5\n97         98           5           6\n99        100           3           4\n100       101           3           4\n\n[68 rows x 3 columns]",
      "text/html": "<div>\n<style scoped>\n    .dataframe tbody tr th:only-of-type {\n        vertical-align: middle;\n    }\n\n    .dataframe tbody tr th {\n        vertical-align: top;\n    }\n\n    .dataframe thead th {\n        text-align: right;\n    }\n</style>\n<table border=\"1\" class=\"dataframe\">\n  <thead>\n    <tr style=\"text-align: right;\">\n      <th></th>\n      <th>appIndex</th>\n      <th>counts gpu</th>\n      <th>counts cpu</th>\n    </tr>\n  </thead>\n  <tbody>\n    <tr>\n      <th>0</th>\n      <td>0</td>\n      <td>5</td>\n      <td>6</td>\n    </tr>\n    <tr>\n      <th>4</th>\n      <td>4</td>\n      <td>11</td>\n      <td>12</td>\n    </tr>\n    <tr>\n      <th>5</th>\n      <td>5</td>\n      <td>7</td>\n      <td>8</td>\n    </tr>\n    <tr>\n      <th>6</th>\n      <td>6</td>\n      <td>5</td>\n      <td>6</td>\n    </tr>\n    <tr>\n      <th>7</th>\n      <td>7</td>\n      <td>6</td>\n      <td>7</td>\n    </tr>\n    <tr>\n      <th>...</th>\n      <td>...</td>\n      <td>...</td>\n      <td>...</td>\n    </tr>\n    <tr>\n      <th>93</th>\n      <td>94</td>\n      <td>7</td>\n      <td>8</td>\n    </tr>\n    <tr>\n      <th>94</th>\n      <td>95</td>\n      <td>4</td>\n      <td>5</td>\n    </tr>\n    <tr>\n      <th>97</th>\n      <td>98</td>\n      <td>5</td>\n      <td>6</td>\n    </tr>\n    <tr>\n      <th>99</th>\n      <td>100</td>\n      <td>3</td>\n      <td>4</td>\n    </tr>\n    <tr>\n      <th>100</th>\n      <td>101</td>\n      <td>3</td>\n      <td>4</td>\n    </tr>\n  </tbody>\n</table>\n<p>68 rows × 3 columns</p>\n</div>"
     },
     "execution_count": 4,
     "metadata": {},
     "output_type": "execute_result"
    }
   ],
   "source": [
    "gpu_scan_counts = gpu_scan_times_df.groupby(\"appIndex\").size().reset_index(name=\"counts gpu\")\n",
    "cpu_scan_counts = cpu_scan_times_df.groupby(\"appIndex\").size().reset_index(name=\"counts cpu\")\n",
    "combined_counts = pd.merge(gpu_scan_counts, cpu_scan_counts, on=\"appIndex\")\n",
    "combined_counts[combined_counts[\"counts gpu\"] != combined_counts[\"counts cpu\"]]"
   ],
   "metadata": {
    "collapsed": false,
    "ExecuteTime": {
     "end_time": "2023-12-19T23:58:42.890397800Z",
     "start_time": "2023-12-19T23:58:42.844414306Z"
    }
   },
   "id": "6b543c049f10314c"
  },
  {
   "cell_type": "markdown",
   "source": [
    "2 - query 24a:\n",
    "  CPU: 12 `Scan parquet` - 5 `ReusedExchange` = 7\n",
    "  GPU: 12 `GpuScan parquet` - 4 `ReusedExchange` = 8\n",
    "3 - query 24b: GPU misisng 1 `ReusedExchange`\n",
    "  CPU: 12 `Scan parquet` - 5 `ReusedExchange` = 7\n",
    "  GPU: 12 `GpuScan parquet` - 4 `ReusedExchange` = 8\n",
    "5 - query 47:\n",
    "  CPU: 15 `Scan parquet` - 11 `ReusedExchange` = 4\n",
    "  GPU: 15 `GpuScan parquet` - 10 `ReusedExchange` = 5\n",
    "6 - query 56:\n",
    "  CPU: 18 `Scan parquet` - 9 `ReusedExchange` - 2 `ReusedSubquery` = 7\n",
    "  GPU: 18 `GpuScan parquet` - 9 `ReusedExchange` - 2 `ReusedSubquery` = 7 (why 8???)\n",
    "7 - query 66:\n",
    "  CPU: 12 `Scan parquet` - 5 `ReusedExchange` - 1 `ReusedSubquery` = 6\n",
    "  GPU: 12 `GpuScan parquet` - 4 `ReusedExchange` - 1 `ReusedSubquery` = 7\n",
    "8 - query 75:\n",
    "  CPU: 30 `Scan parquet` - 14 `ReusedExchange` - 4 `ReusedSubquery` = 12\n",
    "  GPU: 30 `GpuScan parquet` - 12 `ReusedExchange` - 4 `ReusedSubquery` = 14  \n",
    " "
   ],
   "metadata": {
    "collapsed": false
   },
   "id": "50d4d9fb5a5d02e7"
  },
  {
   "cell_type": "markdown",
   "source": [
    "14: query 14b:\n",
    "  CPU: 82 `Scan parquet` - 54 `ReusedExchange` - 20 `ReusedSubquery` + 9 nested reuse = 17\n",
    "  GPU: 82 `GpuScan parquet` - 64 `ReusedExchange` - 11 `ReusedSubquery` + 3 nested reuse = 10???"
   ],
   "metadata": {
    "collapsed": false
   },
   "id": "37d9d88f5fd1265e"
  }
 ],
 "metadata": {
  "kernelspec": {
   "display_name": "Python 3",
   "language": "python",
   "name": "python3"
  },
  "language_info": {
   "codemirror_mode": {
    "name": "ipython",
    "version": 2
   },
   "file_extension": ".py",
   "mimetype": "text/x-python",
   "name": "python",
   "nbconvert_exporter": "python",
   "pygments_lexer": "ipython2",
   "version": "2.7.6"
  }
 },
 "nbformat": 4,
 "nbformat_minor": 5
}
