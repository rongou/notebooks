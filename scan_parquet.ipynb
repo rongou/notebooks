{
 "cells": [
  {
   "cell_type": "markdown",
   "source": [
    "Analyze GPU scan parquet operator in Spark event logs."
   ],
   "metadata": {
    "collapsed": false
   },
   "id": "1a9ef6873e585ed7"
  },
  {
   "cell_type": "code",
   "execution_count": null,
   "outputs": [],
   "source": [
    "import os\n",
    "\n",
    "import matplotlib.pyplot as plt\n",
    "import pandas as pd\n",
    "\n",
    "cpu_dir = \"/home/rou/src/spark-rapids-tools/CPU-3k-new\"\n",
    "gpu_dir = \"/home/rou/src/spark-rapids-tools/GPU-3k-new\"\n",
    "cpu_files = os.listdir(cpu_dir)\n",
    "cpu_files.sort()\n",
    "gpu_files = os.listdir(gpu_dir)\n",
    "gpu_files.sort()"
   ],
   "metadata": {
    "collapsed": false
   },
   "id": "9d7b008061acb215"
  },
  {
   "cell_type": "code",
   "execution_count": null,
   "outputs": [],
   "source": [
    "gpu_scan_times = []\n",
    "for i, app in enumerate(gpu_files):\n",
    "    sql_info = pd.read_csv(gpu_dir + \"/\" + app + \"/sql_plan_metrics_for_application.csv\")\n",
    "    filtered_df = sql_info[(sql_info[\"name\"] == \"scan time\") & (sql_info[\"nodeName\"] == \"GpuScan parquet \")].copy()\n",
    "    filtered_df[\"appIndex\"] = i \n",
    "    filtered_df[\"app\"] = app \n",
    "    filtered_df.drop_duplicates(subset=[\"accumulatorId\"], inplace=True)\n",
    "    gpu_scan_times.append(filtered_df) \n",
    "gpu_scan_times_df = pd.concat(gpu_scan_times)\n",
    "gpu_scan_times_df[gpu_scan_times_df[\"appIndex\"] == 3]"
   ],
   "metadata": {
    "collapsed": false
   },
   "id": "d95d47700f30139"
  },
  {
   "cell_type": "code",
   "execution_count": null,
   "outputs": [],
   "source": [
    "cpu_scan_times = []\n",
    "for i, app in enumerate(cpu_files) :\n",
    "    sql_info = pd.read_csv(cpu_dir + \"/\" + app + \"/sql_plan_metrics_for_application.csv\")\n",
    "    filtered_df = sql_info[(sql_info[\"name\"] == \"scan time\") & (sql_info[\"nodeName\"] == \"Scan parquet \")].copy()\n",
    "    filtered_df[\"appIndex\"] = i  \n",
    "    filtered_df[\"app\"] = app \n",
    "    # filtered_df.drop_duplicates(subset=[\"accumulatorId\"], inplace=True)\n",
    "    cpu_scan_times.append(filtered_df)\n",
    "cpu_scan_times_df = pd.concat(cpu_scan_times)\n",
    "cpu_scan_times_df[cpu_scan_times_df[\"appIndex\"] == 14]"
   ],
   "metadata": {
    "collapsed": false
   },
   "id": "ca673c73bbfceb6"
  },
  {
   "cell_type": "code",
   "execution_count": null,
   "outputs": [],
   "source": [
    "gpu_scan_counts = gpu_scan_times_df.groupby(\"appIndex\").size().reset_index(name=\"counts gpu\")\n",
    "cpu_scan_counts = cpu_scan_times_df.groupby(\"appIndex\").size().reset_index(name=\"counts cpu\")\n",
    "combined_counts = pd.merge(gpu_scan_counts, cpu_scan_counts, on=\"appIndex\")\n",
    "combined_counts[combined_counts[\"counts gpu\"] != combined_counts[\"counts cpu\"]]"
   ],
   "metadata": {
    "collapsed": false
   },
   "id": "6b543c049f10314c"
  },
  {
   "cell_type": "markdown",
   "source": [
    "2 - query 24a:\n",
    "  CPU: 12 `Scan parquet` - 5 `ReusedExchange` = 7\n",
    "  GPU: 12 `GpuScan parquet` - 4 `ReusedExchange` = 8\n",
    "3 - query 24b: GPU misisng 1 `ReusedExchange`\n",
    "  CPU: 12 `Scan parquet` - 5 `ReusedExchange` = 7\n",
    "  GPU: 12 `GpuScan parquet` - 4 `ReusedExchange` = 8\n",
    "5 - query 47:\n",
    "  CPU: 15 `Scan parquet` - 11 `ReusedExchange` = 4\n",
    "  GPU: 15 `GpuScan parquet` - 10 `ReusedExchange` = 5\n",
    "6 - query 56:\n",
    "  CPU: 18 `Scan parquet` - 9 `ReusedExchange` - 2 `ReusedSubquery` = 7\n",
    "  GPU: 18 `GpuScan parquet` - 9 `ReusedExchange` - 2 `ReusedSubquery` = 7 (why 8???)\n",
    "7 - query 66:\n",
    "  CPU: 12 `Scan parquet` - 5 `ReusedExchange` - 1 `ReusedSubquery` = 6\n",
    "  GPU: 12 `GpuScan parquet` - 4 `ReusedExchange` - 1 `ReusedSubquery` = 7\n",
    "8 - query 75:\n",
    "  CPU: 30 `Scan parquet` - 14 `ReusedExchange` - 4 `ReusedSubquery` = 12\n",
    "  GPU: 30 `GpuScan parquet` - 12 `ReusedExchange` - 4 `ReusedSubquery` = 14  \n",
    " "
   ],
   "metadata": {
    "collapsed": false
   },
   "id": "50d4d9fb5a5d02e7"
  },
  {
   "cell_type": "markdown",
   "source": [
    "14: query 14b:\n",
    "  CPU: 82 `Scan parquet` - 54 `ReusedExchange` - 20 `ReusedSubquery` + 9 nested reuse = 17\n",
    "  GPU: 82 `GpuScan parquet` - 64 `ReusedExchange` - 11 `ReusedSubquery` + 3 nested reuse = 10???"
   ],
   "metadata": {
    "collapsed": false
   },
   "id": "37d9d88f5fd1265e"
  }
 ],
 "metadata": {
  "kernelspec": {
   "display_name": "Python 3",
   "language": "python",
   "name": "python3"
  },
  "language_info": {
   "codemirror_mode": {
    "name": "ipython",
    "version": 2
   },
   "file_extension": ".py",
   "mimetype": "text/x-python",
   "name": "python",
   "nbconvert_exporter": "python",
   "pygments_lexer": "ipython2",
   "version": "2.7.6"
  }
 },
 "nbformat": 4,
 "nbformat_minor": 5
}
