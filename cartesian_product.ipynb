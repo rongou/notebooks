{
 "cells": [
  {
   "cell_type": "markdown",
   "source": [
    "Parse the profiler output to compare output rows and op times for GPU cartesian product operations."
   ],
   "metadata": {
    "collapsed": false
   },
   "id": "38b70794d584d102"
  },
  {
   "cell_type": "code",
   "execution_count": null,
   "outputs": [],
   "source": [
    "import json\n",
    "import os\n",
    "\n",
    "import matplotlib.pyplot as plt\n",
    "import numpy as np\n",
    "import pandas as pd\n",
    "from sklearn.linear_model import HuberRegressor\n",
    "\n",
    "profile_dirs = [\"/opt/data/profiles/dataproc-gpu-sf100\",\n",
    "                \"/opt/data/profiles/dataproc-gpu-sf3k\",\n",
    "                \"/opt/data/profiles/dataproc-gpu-sf5k\",\n",
    "                \"/opt/data/profiles/dataproc-gpu-sf10k\"]"
   ],
   "metadata": {
    "collapsed": false
   },
   "id": "4bfab33d0f98d9ce"
  },
  {
   "cell_type": "code",
   "outputs": [],
   "source": [
    "output_rows = []\n",
    "op_times = []\n",
    "for profile_dir in profile_dirs:\n",
    "    apps = os.listdir(profile_dir)\n",
    "    apps.sort()\n",
    "    for app in apps:\n",
    "        print(f\"Processing gpu profile {app}\")\n",
    "        sql_info = pd.read_csv(f\"{profile_dir}/{app}/sql_plan_metrics_for_application.csv\")\n",
    "        condition = (sql_info['nodeName'] == 'GpuCartesianProduct')\n",
    "        filtered = sql_info[condition]\n",
    "        grouped = filtered.groupby(\"nodeID\")\n",
    "        for _, group in grouped:\n",
    "            for row in group.itertuples():\n",
    "                if row.name == \"output rows\":\n",
    "                    output_rows.append(row.total)\n",
    "                elif row.name == \"op time\":\n",
    "                    op_times.append(row.total / 1000000.)\n",
    "print(output_rows)\n",
    "print(op_times)"
   ],
   "metadata": {
    "collapsed": false
   },
   "id": "75275cfe783dd3d0",
   "execution_count": null
  },
  {
   "cell_type": "code",
   "outputs": [],
   "source": [
    "# Create a scatter plot\n",
    "plt.scatter(output_rows, op_times)\n",
    "# plt.xscale('log')\n",
    "# plt.yscale('log')\n",
    "\n",
    "# Calculate the linear regression line\n",
    "slope, intercept = np.polyfit(output_rows, op_times, 1)\n",
    "# X = np.array(cpu_times).reshape(-1, 1)\n",
    "# y = np.array(gpu_times)\n",
    "# regressor = HuberRegressor()\n",
    "# regressor.fit(X, y)\n",
    "# slope = regressor.coef_[0]\n",
    "# intercept = regressor.intercept_\n",
    "print(slope, intercept)\n",
    "regression_line = np.array(output_rows) * slope + intercept\n",
    "\n",
    "# Plot the linear regression line\n",
    "plt.plot(output_rows, regression_line, color='red')  # you can choose any color you like for the line\n",
    "\n",
    "# Adding title and labels (optional)\n",
    "plt.title(\"Cartesian Product Op Times\")\n",
    "plt.xlabel(\"Output Rows\")\n",
    "plt.ylabel(\"GPU Op Time (ms)\")\n",
    "\n",
    "# Show the plot\n",
    "plt.show()"
   ],
   "metadata": {
    "collapsed": false
   },
   "id": "2bc8bca893683344",
   "execution_count": null
  },
  {
   "cell_type": "code",
   "outputs": [],
   "source": [],
   "metadata": {
    "collapsed": false
   },
   "id": "cef25b29d67be805",
   "execution_count": null
  },
  {
   "cell_type": "code",
   "outputs": [],
   "source": [],
   "metadata": {
    "collapsed": false
   },
   "id": "24a7bf0161f829b0"
  }
 ],
 "metadata": {
  "kernelspec": {
   "display_name": "Python 3",
   "language": "python",
   "name": "python3"
  },
  "language_info": {
   "codemirror_mode": {
    "name": "ipython",
    "version": 2
   },
   "file_extension": ".py",
   "mimetype": "text/x-python",
   "name": "python",
   "nbconvert_exporter": "python",
   "pygments_lexer": "ipython2",
   "version": "2.7.6"
  }
 },
 "nbformat": 4,
 "nbformat_minor": 5
}
