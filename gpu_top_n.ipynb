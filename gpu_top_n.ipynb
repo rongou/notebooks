{
 "cells": [
  {
   "cell_type": "markdown",
   "id": "38b70794d584d102",
   "metadata": {
    "collapsed": false
   },
   "source": [
    "Parse the profiler output to compare input rows and op times for GPU top N operations."
   ]
  },
  {
   "cell_type": "code",
   "execution_count": null,
   "id": "4bfab33d0f98d9ce",
   "metadata": {
    "collapsed": false
   },
   "outputs": [],
   "source": [
    "%matplotlib notebook\n",
    "import os\n",
    "\n",
    "import matplotlib.pyplot as plt\n",
    "import numpy as np\n",
    "import pandas as pd\n",
    "\n",
    "profile_dirs = [\"/opt/data/profiles/dataproc-gpu-sf100\",\n",
    "                \"/opt/data/profiles/dataproc-gpu-sf3k\",\n",
    "                \"/opt/data/profiles/dataproc-gpu-sf5k\",\n",
    "                \"/opt/data/profiles/dataproc-gpu-sf10k\"]\n",
    "scale_factors = [\"100\", \"3K\", \"5K\", \"10K\"]"
   ]
  },
  {
   "cell_type": "code",
   "execution_count": null,
   "id": "75275cfe783dd3d0",
   "metadata": {
    "collapsed": false
   },
   "outputs": [],
   "source": [
    "num_scale_factors = len(profile_dirs)\n",
    "input_rows = [[] for _ in range(num_scale_factors)]\n",
    "output_rows = [[] for _ in range(num_scale_factors)]\n",
    "op_times = [[] for _ in range(num_scale_factors)]\n",
    "sort_times = [[] for _ in range(num_scale_factors)]\n",
    "for i, profile_dir in enumerate(profile_dirs):\n",
    "    apps = os.listdir(profile_dir)\n",
    "    apps.sort()\n",
    "    for app in apps:\n",
    "        print(f\"Processing gpu profile {profile_dir}/{app}\")\n",
    "        sql_info = pd.read_csv(f\"{profile_dir}/{app}/sql_plan_metrics_for_application.csv\")\n",
    "        condition = (sql_info['nodeName'] == 'GpuTopN')\n",
    "        filtered = sql_info[condition]\n",
    "        grouped = filtered.groupby(\"nodeID\")\n",
    "        for _, group in grouped:\n",
    "            input_rows_for_op = 0\n",
    "            output_rows_for_op = 0\n",
    "            op_time_for_op = 0\n",
    "            sort_time_for_op = 0\n",
    "            for row in group.itertuples():\n",
    "                if row.name == \"input rows\":\n",
    "                    input_rows_for_op = row.total\n",
    "                elif row.name == \"output rows\":\n",
    "                    output_rows_for_op = row.total\n",
    "                elif row.name == \"op time\":\n",
    "                    op_time_for_op = row.total / 1000000.\n",
    "                elif row.name == \"sort time\":\n",
    "                    sort_time_for_op = row.total / 1000000.\n",
    "            if input_rows_for_op != 0 and output_rows_for_op != 0 and op_time_for_op != 0 and sort_time_for_op != 0:\n",
    "                input_rows[i].append(input_rows_for_op)\n",
    "                output_rows[i].append(output_rows_for_op)\n",
    "                op_times[i].append(op_time_for_op)\n",
    "                sort_times[i].append(sort_time_for_op)\n",
    "print([len(x) for x in input_rows])\n",
    "print([len(x) for x in output_rows])\n",
    "print([len(x) for x in op_times])\n",
    "print([len(x) for x in sort_times])"
   ]
  },
  {
   "cell_type": "code",
   "execution_count": null,
   "id": "2bc8bca893683344",
   "metadata": {
    "collapsed": false
   },
   "outputs": [],
   "source": [
    "for i in range(num_scale_factors):\n",
    "    fig = plt.figure(figsize=(10, 8))\n",
    "    ax = fig.add_subplot(projection='3d')\n",
    "    ax.scatter(np.log(input_rows[i]), np.log(output_rows[i]), np.log(op_times[i]))\n",
    "    ax.set_xlabel(\"Input Rows (log)\")\n",
    "    ax.set_ylabel(\"Output Rows (log)\")\n",
    "    ax.set_zlabel(\"Op Time (ms) (log)\")\n",
    "    ax.set_title(f\"GPU Top N Op Times - SF{scale_factors[i]}\")\n",
    "    plt.show()"
   ]
  },
  {
   "cell_type": "code",
   "execution_count": null,
   "id": "10d7416139113d3",
   "metadata": {
    "collapsed": false
   },
   "outputs": [],
   "source": [
    "fig = plt.figure(figsize=(10, 8))\n",
    "ax = fig.add_subplot(projection='3d')\n",
    "for i in range(num_scale_factors):\n",
    "    ax.scatter(np.log(input_rows[i]), np.log(output_rows[i]), np.log(op_times[i]), label=f\"SF{scale_factors[i]}\")\n",
    "ax.set_xlabel(\"Input Rows (log)\")\n",
    "ax.set_ylabel(\"Output Rows (log)\")\n",
    "ax.set_zlabel(\"Op Time (ms) (log)\")\n",
    "ax.set_title(\"GPU Top N Op Times - Combined\")\n",
    "plt.legend()\n",
    "plt.show()"
   ]
  },
  {
   "cell_type": "code",
   "execution_count": null,
   "id": "38bbb1e4c0f22b8a",
   "metadata": {
    "collapsed": false
   },
   "outputs": [],
   "source": [
    "fig = plt.figure(figsize=(10, 8))\n",
    "ax = fig.add_subplot()\n",
    "for i in range(num_scale_factors):\n",
    "    ax.scatter(sort_times[i], op_times[i], label=f\"SF{scale_factors[i]}\")\n",
    "ax.set_xscale('log')\n",
    "ax.set_yscale('log')\n",
    "ax.set_xlabel(\"Sort Time (ms)\")\n",
    "ax.set_ylabel(\"Op Time (ms)\")\n",
    "ax.set_title(\"GPU Top N Sort Time vs Op Time - Combined\")\n",
    "plt.legend()\n",
    "plt.show()"
   ]
  }
 ],
 "metadata": {
  "kernelspec": {
   "display_name": "Python 3 (ipykernel)",
   "language": "python",
   "name": "python3"
  },
  "language_info": {
   "codemirror_mode": {
    "name": "ipython",
    "version": 3
   },
   "file_extension": ".py",
   "mimetype": "text/x-python",
   "name": "python",
   "nbconvert_exporter": "python",
   "pygments_lexer": "ipython3",
   "version": "3.12.0"
  }
 },
 "nbformat": 4,
 "nbformat_minor": 5
}
